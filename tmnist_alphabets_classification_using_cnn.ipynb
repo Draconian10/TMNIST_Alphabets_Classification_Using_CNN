{
  "metadata": {
    "kernelspec": {
      "language": "python",
      "display_name": "Python 3",
      "name": "python3"
    },
    "language_info": {
      "name": "python",
      "version": "3.7.12",
      "mimetype": "text/x-python",
      "codemirror_mode": {
        "name": "ipython",
        "version": 3
      },
      "pygments_lexer": "ipython3",
      "nbconvert_exporter": "python",
      "file_extension": ".py"
    },
    "colab": {
      "provenance": []
    },
    "accelerator": "GPU",
    "gpuClass": "standard"
  },
  "nbformat_minor": 0,
  "nbformat": 4,
  "cells": [
    {
      "cell_type": "markdown",
      "source": [
        "# TMNIST Alphabets Classification Using Convolutional Neural Network"
      ],
      "metadata": {
        "id": "TLvdOG5AOkxT"
      }
    },
    {
      "cell_type": "markdown",
      "source": [
        "## Author: \n",
        "- Yash Pankhania (pankhania.y@northeastern.edu)\n",
        "\n",
        "Github Repository URL: https://github.com/Draconian10/TMNIST_Alphabets_Classification_Using_CNN"
      ],
      "metadata": {
        "id": "H9rY_lp1VXnz"
      }
    },
    {
      "cell_type": "markdown",
      "source": [
        "## Abstract\n",
        "This notebook presents a Convolutional Neural Network (CNN) based approach for performing typography classification on the MNIST dataset consisting of 94 alphabets. The dataset contains 94 classes of alphabets with variations in size, thickness, and orientation. The proposed approach utilizes a deep CNN architecture with multiple convolutional and pooling layers, followed by fully connected layers for classification. The model achieved a high accuracy of around 94% on the test set. The results demonstrate the effectiveness of CNNs in handling complex typography datasets and provide a promising solution for various real-world applications, such as automated character recognition systems."
      ],
      "metadata": {
        "id": "NdQ6jBVGU937"
      }
    },
    {
      "cell_type": "markdown",
      "source": [
        "Data Set: https://www.kaggle.com/datasets/nikbearbrown/tmnist-alphabet-94-characters"
      ],
      "metadata": {
        "id": "0-WwP-caXA68"
      }
    },
    {
      "cell_type": "code",
      "source": [
        "import numpy as np \n",
        "import pandas as pd \n",
        "import re\n",
        "from sklearn.model_selection import train_test_split\n",
        "from sklearn.utils import shuffle\n",
        "import matplotlib.pyplot as plt\n",
        "import warnings\n",
        "warnings.filterwarnings('ignore')\n",
        "%matplotlib inline\n",
        "\n",
        "# Importing libraries for building CNN\n",
        "import tensorflow as tf \n",
        "from tensorflow.keras.utils import to_categorical\n",
        "from tensorflow.keras.models import Sequential,load_model\n",
        "from tensorflow.keras.layers import Dense, Conv2D, MaxPool2D,Flatten,Dropout,BatchNormalization\n",
        "from tensorflow.keras.optimizers import SGD, Adam, RMSprop\n",
        "from tensorflow.keras.callbacks import EarlyStopping"
      ],
      "metadata": {
        "_uuid": "8f2839f25d086af736a60e9eeb907d3b93b6e0e5",
        "_cell_guid": "b1076dfc-b9ad-4769-8c92-a6c4dae69d19",
        "execution": {
          "iopub.status.busy": "2023-04-15T20:01:38.333942Z",
          "iopub.execute_input": "2023-04-15T20:01:38.334738Z",
          "iopub.status.idle": "2023-04-15T20:01:43.190294Z",
          "shell.execute_reply.started": "2023-04-15T20:01:38.334697Z",
          "shell.execute_reply": "2023-04-15T20:01:43.187829Z"
        },
        "trusted": true,
        "id": "HMzniY5XLQ6-"
      },
      "execution_count": 1,
      "outputs": []
    },
    {
      "cell_type": "markdown",
      "source": [
        "## TensorFlow\n",
        "- TensorFlow is an open-source machine learning framework that was developed by Google Brain team. \n",
        "- It allows developers to build and train machine learning models for a variety of tasks, such as image recognition, natural language processing, and many more. \n",
        "- TensorFlow provides a flexible architecture that enables users to deploy computations across multiple CPUs or GPUs in a desktop, server, or mobile device environment.\n",
        "- One of the key features of TensorFlow is its ability to define, optimize, and efficiently calculate mathematical expressions involving multi-dimensional arrays, or tensors. \n",
        "- TensorFlow uses a dataflow graph to represent the computation in a machine learning model, which makes it easier to parallelize the calculations and optimize performance. \n",
        "\n",
        "Refer: https://www.tensorflow.org/api_docs/python/tf"
      ],
      "metadata": {
        "id": "jFVVMXgOT0XN"
      }
    },
    {
      "cell_type": "code",
      "source": [
        "from google.colab import drive\n",
        "# Mounting Google Drive to Colab\n",
        "drive.mount('/content/drive')"
      ],
      "metadata": {
        "colab": {
          "base_uri": "https://localhost:8080/"
        },
        "id": "rN28f0-GLYdQ",
        "outputId": "2fcadc03-519c-4dd0-b4e2-7331ba71008a"
      },
      "execution_count": 2,
      "outputs": [
        {
          "output_type": "stream",
          "name": "stdout",
          "text": [
            "Mounted at /content/drive\n"
          ]
        }
      ]
    },
    {
      "cell_type": "code",
      "source": [
        "# Reading the dataset\n",
        "df = pd.read_csv('drive/My Drive/Colab Notebooks/94_character_TMNIST.csv')"
      ],
      "metadata": {
        "id": "Vzi8NxwdLboK"
      },
      "execution_count": 3,
      "outputs": []
    },
    {
      "cell_type": "code",
      "source": [
        "# Displaying the data set\n",
        "df.head()"
      ],
      "metadata": {
        "id": "C-6kJFPzKe0O",
        "outputId": "59143fcc-f11f-465d-f49d-e9eaa0c0ccbf",
        "colab": {
          "base_uri": "https://localhost:8080/",
          "height": 236
        }
      },
      "execution_count": 4,
      "outputs": [
        {
          "output_type": "execute_result",
          "data": {
            "text/plain": [
              "                  names labels    1    2    3    4    5    6    7    8  ...  \\\n",
              "0         Salsa-Regular      6  0.0  0.0  0.0  0.0  0.0  0.0  0.0  0.0  ...   \n",
              "1  MouseMemoirs-Regular      D  0.0  0.0  0.0  0.0  0.0  0.0  0.0  0.0  ...   \n",
              "2     Creepster-Regular      f  0.0  0.0  0.0  0.0  0.0  0.0  0.0  0.0  ...   \n",
              "3     SeoulNamsan-Light      /  0.0  0.0  0.0  0.0  0.0  0.0  0.0  0.0  ...   \n",
              "4  HachiMaruPop-Regular      F  0.0  0.0  0.0  0.0  0.0  0.0  0.0  0.0  ...   \n",
              "\n",
              "   775  776  777  778  779  780  781  782  783  784  \n",
              "0  0.0  0.0  0.0  0.0  0.0  0.0  0.0  0.0  0.0  0.0  \n",
              "1  0.0  0.0  0.0  0.0  0.0  0.0  0.0  0.0  0.0  0.0  \n",
              "2  0.0  0.0  0.0  0.0  0.0  0.0  0.0  0.0  0.0  0.0  \n",
              "3  0.0  0.0  0.0  0.0  0.0  0.0  0.0  0.0  0.0  0.0  \n",
              "4  0.0  0.0  0.0  0.0  0.0  0.0  0.0  0.0  0.0  0.0  \n",
              "\n",
              "[5 rows x 786 columns]"
            ],
            "text/html": [
              "\n",
              "  <div id=\"df-5e063a0e-0f9b-456f-9804-a5fc6d20b4fb\">\n",
              "    <div class=\"colab-df-container\">\n",
              "      <div>\n",
              "<style scoped>\n",
              "    .dataframe tbody tr th:only-of-type {\n",
              "        vertical-align: middle;\n",
              "    }\n",
              "\n",
              "    .dataframe tbody tr th {\n",
              "        vertical-align: top;\n",
              "    }\n",
              "\n",
              "    .dataframe thead th {\n",
              "        text-align: right;\n",
              "    }\n",
              "</style>\n",
              "<table border=\"1\" class=\"dataframe\">\n",
              "  <thead>\n",
              "    <tr style=\"text-align: right;\">\n",
              "      <th></th>\n",
              "      <th>names</th>\n",
              "      <th>labels</th>\n",
              "      <th>1</th>\n",
              "      <th>2</th>\n",
              "      <th>3</th>\n",
              "      <th>4</th>\n",
              "      <th>5</th>\n",
              "      <th>6</th>\n",
              "      <th>7</th>\n",
              "      <th>8</th>\n",
              "      <th>...</th>\n",
              "      <th>775</th>\n",
              "      <th>776</th>\n",
              "      <th>777</th>\n",
              "      <th>778</th>\n",
              "      <th>779</th>\n",
              "      <th>780</th>\n",
              "      <th>781</th>\n",
              "      <th>782</th>\n",
              "      <th>783</th>\n",
              "      <th>784</th>\n",
              "    </tr>\n",
              "  </thead>\n",
              "  <tbody>\n",
              "    <tr>\n",
              "      <th>0</th>\n",
              "      <td>Salsa-Regular</td>\n",
              "      <td>6</td>\n",
              "      <td>0.0</td>\n",
              "      <td>0.0</td>\n",
              "      <td>0.0</td>\n",
              "      <td>0.0</td>\n",
              "      <td>0.0</td>\n",
              "      <td>0.0</td>\n",
              "      <td>0.0</td>\n",
              "      <td>0.0</td>\n",
              "      <td>...</td>\n",
              "      <td>0.0</td>\n",
              "      <td>0.0</td>\n",
              "      <td>0.0</td>\n",
              "      <td>0.0</td>\n",
              "      <td>0.0</td>\n",
              "      <td>0.0</td>\n",
              "      <td>0.0</td>\n",
              "      <td>0.0</td>\n",
              "      <td>0.0</td>\n",
              "      <td>0.0</td>\n",
              "    </tr>\n",
              "    <tr>\n",
              "      <th>1</th>\n",
              "      <td>MouseMemoirs-Regular</td>\n",
              "      <td>D</td>\n",
              "      <td>0.0</td>\n",
              "      <td>0.0</td>\n",
              "      <td>0.0</td>\n",
              "      <td>0.0</td>\n",
              "      <td>0.0</td>\n",
              "      <td>0.0</td>\n",
              "      <td>0.0</td>\n",
              "      <td>0.0</td>\n",
              "      <td>...</td>\n",
              "      <td>0.0</td>\n",
              "      <td>0.0</td>\n",
              "      <td>0.0</td>\n",
              "      <td>0.0</td>\n",
              "      <td>0.0</td>\n",
              "      <td>0.0</td>\n",
              "      <td>0.0</td>\n",
              "      <td>0.0</td>\n",
              "      <td>0.0</td>\n",
              "      <td>0.0</td>\n",
              "    </tr>\n",
              "    <tr>\n",
              "      <th>2</th>\n",
              "      <td>Creepster-Regular</td>\n",
              "      <td>f</td>\n",
              "      <td>0.0</td>\n",
              "      <td>0.0</td>\n",
              "      <td>0.0</td>\n",
              "      <td>0.0</td>\n",
              "      <td>0.0</td>\n",
              "      <td>0.0</td>\n",
              "      <td>0.0</td>\n",
              "      <td>0.0</td>\n",
              "      <td>...</td>\n",
              "      <td>0.0</td>\n",
              "      <td>0.0</td>\n",
              "      <td>0.0</td>\n",
              "      <td>0.0</td>\n",
              "      <td>0.0</td>\n",
              "      <td>0.0</td>\n",
              "      <td>0.0</td>\n",
              "      <td>0.0</td>\n",
              "      <td>0.0</td>\n",
              "      <td>0.0</td>\n",
              "    </tr>\n",
              "    <tr>\n",
              "      <th>3</th>\n",
              "      <td>SeoulNamsan-Light</td>\n",
              "      <td>/</td>\n",
              "      <td>0.0</td>\n",
              "      <td>0.0</td>\n",
              "      <td>0.0</td>\n",
              "      <td>0.0</td>\n",
              "      <td>0.0</td>\n",
              "      <td>0.0</td>\n",
              "      <td>0.0</td>\n",
              "      <td>0.0</td>\n",
              "      <td>...</td>\n",
              "      <td>0.0</td>\n",
              "      <td>0.0</td>\n",
              "      <td>0.0</td>\n",
              "      <td>0.0</td>\n",
              "      <td>0.0</td>\n",
              "      <td>0.0</td>\n",
              "      <td>0.0</td>\n",
              "      <td>0.0</td>\n",
              "      <td>0.0</td>\n",
              "      <td>0.0</td>\n",
              "    </tr>\n",
              "    <tr>\n",
              "      <th>4</th>\n",
              "      <td>HachiMaruPop-Regular</td>\n",
              "      <td>F</td>\n",
              "      <td>0.0</td>\n",
              "      <td>0.0</td>\n",
              "      <td>0.0</td>\n",
              "      <td>0.0</td>\n",
              "      <td>0.0</td>\n",
              "      <td>0.0</td>\n",
              "      <td>0.0</td>\n",
              "      <td>0.0</td>\n",
              "      <td>...</td>\n",
              "      <td>0.0</td>\n",
              "      <td>0.0</td>\n",
              "      <td>0.0</td>\n",
              "      <td>0.0</td>\n",
              "      <td>0.0</td>\n",
              "      <td>0.0</td>\n",
              "      <td>0.0</td>\n",
              "      <td>0.0</td>\n",
              "      <td>0.0</td>\n",
              "      <td>0.0</td>\n",
              "    </tr>\n",
              "  </tbody>\n",
              "</table>\n",
              "<p>5 rows × 786 columns</p>\n",
              "</div>\n",
              "      <button class=\"colab-df-convert\" onclick=\"convertToInteractive('df-5e063a0e-0f9b-456f-9804-a5fc6d20b4fb')\"\n",
              "              title=\"Convert this dataframe to an interactive table.\"\n",
              "              style=\"display:none;\">\n",
              "        \n",
              "  <svg xmlns=\"http://www.w3.org/2000/svg\" height=\"24px\"viewBox=\"0 0 24 24\"\n",
              "       width=\"24px\">\n",
              "    <path d=\"M0 0h24v24H0V0z\" fill=\"none\"/>\n",
              "    <path d=\"M18.56 5.44l.94 2.06.94-2.06 2.06-.94-2.06-.94-.94-2.06-.94 2.06-2.06.94zm-11 1L8.5 8.5l.94-2.06 2.06-.94-2.06-.94L8.5 2.5l-.94 2.06-2.06.94zm10 10l.94 2.06.94-2.06 2.06-.94-2.06-.94-.94-2.06-.94 2.06-2.06.94z\"/><path d=\"M17.41 7.96l-1.37-1.37c-.4-.4-.92-.59-1.43-.59-.52 0-1.04.2-1.43.59L10.3 9.45l-7.72 7.72c-.78.78-.78 2.05 0 2.83L4 21.41c.39.39.9.59 1.41.59.51 0 1.02-.2 1.41-.59l7.78-7.78 2.81-2.81c.8-.78.8-2.07 0-2.86zM5.41 20L4 18.59l7.72-7.72 1.47 1.35L5.41 20z\"/>\n",
              "  </svg>\n",
              "      </button>\n",
              "      \n",
              "  <style>\n",
              "    .colab-df-container {\n",
              "      display:flex;\n",
              "      flex-wrap:wrap;\n",
              "      gap: 12px;\n",
              "    }\n",
              "\n",
              "    .colab-df-convert {\n",
              "      background-color: #E8F0FE;\n",
              "      border: none;\n",
              "      border-radius: 50%;\n",
              "      cursor: pointer;\n",
              "      display: none;\n",
              "      fill: #1967D2;\n",
              "      height: 32px;\n",
              "      padding: 0 0 0 0;\n",
              "      width: 32px;\n",
              "    }\n",
              "\n",
              "    .colab-df-convert:hover {\n",
              "      background-color: #E2EBFA;\n",
              "      box-shadow: 0px 1px 2px rgba(60, 64, 67, 0.3), 0px 1px 3px 1px rgba(60, 64, 67, 0.15);\n",
              "      fill: #174EA6;\n",
              "    }\n",
              "\n",
              "    [theme=dark] .colab-df-convert {\n",
              "      background-color: #3B4455;\n",
              "      fill: #D2E3FC;\n",
              "    }\n",
              "\n",
              "    [theme=dark] .colab-df-convert:hover {\n",
              "      background-color: #434B5C;\n",
              "      box-shadow: 0px 1px 3px 1px rgba(0, 0, 0, 0.15);\n",
              "      filter: drop-shadow(0px 1px 2px rgba(0, 0, 0, 0.3));\n",
              "      fill: #FFFFFF;\n",
              "    }\n",
              "  </style>\n",
              "\n",
              "      <script>\n",
              "        const buttonEl =\n",
              "          document.querySelector('#df-5e063a0e-0f9b-456f-9804-a5fc6d20b4fb button.colab-df-convert');\n",
              "        buttonEl.style.display =\n",
              "          google.colab.kernel.accessAllowed ? 'block' : 'none';\n",
              "\n",
              "        async function convertToInteractive(key) {\n",
              "          const element = document.querySelector('#df-5e063a0e-0f9b-456f-9804-a5fc6d20b4fb');\n",
              "          const dataTable =\n",
              "            await google.colab.kernel.invokeFunction('convertToInteractive',\n",
              "                                                     [key], {});\n",
              "          if (!dataTable) return;\n",
              "\n",
              "          const docLinkHtml = 'Like what you see? Visit the ' +\n",
              "            '<a target=\"_blank\" href=https://colab.research.google.com/notebooks/data_table.ipynb>data table notebook</a>'\n",
              "            + ' to learn more about interactive tables.';\n",
              "          element.innerHTML = '';\n",
              "          dataTable['output_type'] = 'display_data';\n",
              "          await google.colab.output.renderOutput(dataTable, element);\n",
              "          const docLink = document.createElement('div');\n",
              "          docLink.innerHTML = docLinkHtml;\n",
              "          element.appendChild(docLink);\n",
              "        }\n",
              "      </script>\n",
              "    </div>\n",
              "  </div>\n",
              "  "
            ]
          },
          "metadata": {},
          "execution_count": 4
        }
      ]
    },
    {
      "cell_type": "code",
      "source": [
        "# Obtaining information of the dataset\n",
        "df.info()"
      ],
      "metadata": {
        "colab": {
          "base_uri": "https://localhost:8080/"
        },
        "id": "qoORktEmJKj1",
        "outputId": "88f3c924-7c7f-4f14-bfb4-2537c10ab071"
      },
      "execution_count": 5,
      "outputs": [
        {
          "output_type": "stream",
          "name": "stdout",
          "text": [
            "<class 'pandas.core.frame.DataFrame'>\n",
            "RangeIndex: 274093 entries, 0 to 274092\n",
            "Columns: 786 entries, names to 784\n",
            "dtypes: float64(784), object(2)\n",
            "memory usage: 1.6+ GB\n"
          ]
        }
      ]
    },
    {
      "cell_type": "code",
      "source": [
        "# Obtaining total number of rows and columns in the dataset\n",
        "df.shape"
      ],
      "metadata": {
        "colab": {
          "base_uri": "https://localhost:8080/"
        },
        "id": "oh8UUG5yKIjD",
        "outputId": "ee820e29-468e-4cff-aa7e-aee23904ce6a"
      },
      "execution_count": 6,
      "outputs": [
        {
          "output_type": "execute_result",
          "data": {
            "text/plain": [
              "(274093, 786)"
            ]
          },
          "metadata": {},
          "execution_count": 6
        }
      ]
    },
    {
      "cell_type": "code",
      "source": [
        "# Fetching number of unique labels in the dataset\n",
        "df['labels'].nunique()"
      ],
      "metadata": {
        "colab": {
          "base_uri": "https://localhost:8080/"
        },
        "id": "EGGMfl0lKO6S",
        "outputId": "5561150d-4f3c-4191-8db9-556db710ec94"
      },
      "execution_count": 7,
      "outputs": [
        {
          "output_type": "execute_result",
          "data": {
            "text/plain": [
              "94"
            ]
          },
          "metadata": {},
          "execution_count": 7
        }
      ]
    },
    {
      "cell_type": "code",
      "source": [
        "# Selecting the list of unique labels in the dataset\n",
        "df['labels'].unique()"
      ],
      "metadata": {
        "colab": {
          "base_uri": "https://localhost:8080/"
        },
        "id": "3YYUNfoWKU3y",
        "outputId": "1465f76d-c769-45b1-b48e-f39772bd41eb"
      },
      "execution_count": 8,
      "outputs": [
        {
          "output_type": "execute_result",
          "data": {
            "text/plain": [
              "array(['6', 'D', 'f', '/', 'F', 'x', 'J', '8', 'H', 'k', '@', '1', '=',\n",
              "       'g', ')', '2', 'd', '^', '3', 't', '#', '.', '4', 'o', '\"', 'y',\n",
              "       'A', 'u', 'G', '-', 'm', 'W', '&', 'c', '9', 'N', ']', 'P', 'X',\n",
              "       '|', '}', 'h', '7', 'j', '5', '>', '?', 'b', '*', 'w', 'l', '0',\n",
              "       '$', 'I', 'Y', '%', ':', 'T', 'K', 'E', '<', 'V', '{', 'M', 'S',\n",
              "       'a', 'i', 'r', \"'\", 'p', ';', '[', '+', 'e', 'U', '(', 's', '~',\n",
              "       ',', 'C', 'q', '_', 'n', 'B', 'z', 'v', 'O', 'R', '`', 'Z', 'Q',\n",
              "       'L', '!', '\\\\'], dtype=object)"
            ]
          },
          "metadata": {},
          "execution_count": 8
        }
      ]
    },
    {
      "cell_type": "code",
      "source": [
        "# Grouping All labels\n",
        "labels = list(df['labels'].unique())\n",
        "labels.sort()\n",
        "print(labels)"
      ],
      "metadata": {
        "execution": {
          "iopub.status.busy": "2023-04-15T20:02:16.004017Z",
          "iopub.execute_input": "2023-04-15T20:02:16.004390Z",
          "iopub.status.idle": "2023-04-15T20:02:16.028582Z",
          "shell.execute_reply.started": "2023-04-15T20:02:16.004352Z",
          "shell.execute_reply": "2023-04-15T20:02:16.027181Z"
        },
        "trusted": true,
        "colab": {
          "base_uri": "https://localhost:8080/"
        },
        "id": "TWVEraY6LQ7B",
        "outputId": "dd2e5a92-c63c-47bf-bb16-342b1bce5085"
      },
      "execution_count": 9,
      "outputs": [
        {
          "output_type": "stream",
          "name": "stdout",
          "text": [
            "['!', '\"', '#', '$', '%', '&', \"'\", '(', ')', '*', '+', ',', '-', '.', '/', '0', '1', '2', '3', '4', '5', '6', '7', '8', '9', ':', ';', '<', '=', '>', '?', '@', 'A', 'B', 'C', 'D', 'E', 'F', 'G', 'H', 'I', 'J', 'K', 'L', 'M', 'N', 'O', 'P', 'Q', 'R', 'S', 'T', 'U', 'V', 'W', 'X', 'Y', 'Z', '[', '\\\\', ']', '^', '_', '`', 'a', 'b', 'c', 'd', 'e', 'f', 'g', 'h', 'i', 'j', 'k', 'l', 'm', 'n', 'o', 'p', 'q', 'r', 's', 't', 'u', 'v', 'w', 'x', 'y', 'z', '{', '|', '}', '~']\n"
          ]
        }
      ]
    },
    {
      "cell_type": "code",
      "source": [
        "# Grouping all labels into four different categories\n",
        "upper_case_pattern = re.compile(r\"[A-Z]\")\n",
        "lower_case_pattern = re.compile(r\"[a-z]\")\n",
        "number_pattern = re.compile(r\"[0-9]\")\n",
        "symbol_pattern = re.compile(r\"[\\W]|[\\_\\,]\")"
      ],
      "metadata": {
        "execution": {
          "iopub.status.busy": "2023-04-15T20:02:16.031990Z",
          "iopub.execute_input": "2023-04-15T20:02:16.032348Z",
          "iopub.status.idle": "2023-04-15T20:02:16.040904Z",
          "shell.execute_reply.started": "2023-04-15T20:02:16.032312Z",
          "shell.execute_reply": "2023-04-15T20:02:16.039685Z"
        },
        "trusted": true,
        "id": "UxTKQI2dLQ7B"
      },
      "execution_count": 10,
      "outputs": []
    },
    {
      "cell_type": "code",
      "source": [
        "# Extracting Patterns from the labels\n",
        "upper = upper_case_pattern.findall(str(labels))\n",
        "upper.sort()\n",
        "print('Upper Case Labels: ', upper)\n",
        "\n",
        "lower = lower_case_pattern.findall(str(labels))\n",
        "lower.sort()\n",
        "print('Lower Case Labels: ', lower)\n",
        "\n",
        "num = number_pattern.findall(str(labels))\n",
        "num.sort()\n",
        "print('Numeric Labels: ', num)\n",
        "\n",
        "symbols = list(set(symbol_pattern.findall(str(labels))))\n",
        "print('Symbolic Labels: ', symbols)"
      ],
      "metadata": {
        "execution": {
          "iopub.status.busy": "2023-04-15T20:02:16.042521Z",
          "iopub.execute_input": "2023-04-15T20:02:16.042900Z",
          "iopub.status.idle": "2023-04-15T20:02:16.054220Z",
          "shell.execute_reply.started": "2023-04-15T20:02:16.042866Z",
          "shell.execute_reply": "2023-04-15T20:02:16.052628Z"
        },
        "trusted": true,
        "colab": {
          "base_uri": "https://localhost:8080/"
        },
        "id": "xyN5IY47LQ7B",
        "outputId": "038ac892-d0a0-4586-b890-fe863145671c"
      },
      "execution_count": 11,
      "outputs": [
        {
          "output_type": "stream",
          "name": "stdout",
          "text": [
            "Upper Case Labels:  ['A', 'B', 'C', 'D', 'E', 'F', 'G', 'H', 'I', 'J', 'K', 'L', 'M', 'N', 'O', 'P', 'Q', 'R', 'S', 'T', 'U', 'V', 'W', 'X', 'Y', 'Z']\n",
            "Lower Case Labels:  ['a', 'b', 'c', 'd', 'e', 'f', 'g', 'h', 'i', 'j', 'k', 'l', 'm', 'n', 'o', 'p', 'q', 'r', 's', 't', 'u', 'v', 'w', 'x', 'y', 'z']\n",
            "Numeric Labels:  ['0', '1', '2', '3', '4', '5', '6', '7', '8', '9']\n",
            "Symbolic Labels:  ['#', '(', '=', '{', '?', '^', ')', '&', ';', '>', '}', '|', '*', ' ', '-', ',', '.', '/', ':', '@', '<', '%', '[', '_', ']', '`', '~', \"'\", '\"', '!', '+', '$', '\\\\']\n"
          ]
        }
      ]
    },
    {
      "cell_type": "code",
      "source": [
        "# Creating Groups\n",
        "group = 1\n",
        "for i in (lower,upper,num,symbols):\n",
        "    df.loc[df['labels'].isin(i), 'group'] = str(group)\n",
        "    group += 1"
      ],
      "metadata": {
        "execution": {
          "iopub.status.busy": "2023-04-15T20:02:16.056173Z",
          "iopub.execute_input": "2023-04-15T20:02:16.057031Z",
          "iopub.status.idle": "2023-04-15T20:02:16.173135Z",
          "shell.execute_reply.started": "2023-04-15T20:02:16.056978Z",
          "shell.execute_reply": "2023-04-15T20:02:16.171833Z"
        },
        "trusted": true,
        "id": "mMxkbyLvLQ7C"
      },
      "execution_count": 12,
      "outputs": []
    },
    {
      "cell_type": "markdown",
      "source": [
        "## Test Train Split\n",
        "\n",
        "- Test train split is a common technique used in machine learning to evaluate the performance of a predictive model. \n",
        "- The idea is to split the available dataset into two subsets: a training set and a testing set. \n",
        "- The training set is used to train the model, while the testing set is used to evaluate the model's performance.\n",
        "- The split is usually done randomly, with a certain percentage of the data set aside for testing, and the remainder used for training. \n",
        "- The typical split is to use around 70-80% of the data for training and the remaining 20-30% for testing."
      ],
      "metadata": {
        "id": "2atvmsZvPxS7"
      }
    },
    {
      "cell_type": "code",
      "source": [
        "# Splitting the main DataFrame into X and y\n",
        "X = df.iloc[:, 2:-1].astype('float32')\n",
        "y  = df[['labels']]"
      ],
      "metadata": {
        "execution": {
          "iopub.status.busy": "2023-04-15T20:02:16.174767Z",
          "iopub.execute_input": "2023-04-15T20:02:16.175231Z",
          "iopub.status.idle": "2023-04-15T20:02:18.643913Z",
          "shell.execute_reply.started": "2023-04-15T20:02:16.175178Z",
          "shell.execute_reply": "2023-04-15T20:02:18.642074Z"
        },
        "trusted": true,
        "id": "5RpRJVJLLQ7C"
      },
      "execution_count": 13,
      "outputs": []
    },
    {
      "cell_type": "code",
      "source": [
        "X"
      ],
      "metadata": {
        "colab": {
          "base_uri": "https://localhost:8080/",
          "height": 424
        },
        "id": "tgcpNSqZTUey",
        "outputId": "e880bdff-7ab7-49ff-b5c8-399379e03550"
      },
      "execution_count": 14,
      "outputs": [
        {
          "output_type": "execute_result",
          "data": {
            "text/plain": [
              "          1    2    3    4    5    6    7    8    9   10  ...  775  776  777  \\\n",
              "0       0.0  0.0  0.0  0.0  0.0  0.0  0.0  0.0  0.0  0.0  ...  0.0  0.0  0.0   \n",
              "1       0.0  0.0  0.0  0.0  0.0  0.0  0.0  0.0  0.0  0.0  ...  0.0  0.0  0.0   \n",
              "2       0.0  0.0  0.0  0.0  0.0  0.0  0.0  0.0  0.0  0.0  ...  0.0  0.0  0.0   \n",
              "3       0.0  0.0  0.0  0.0  0.0  0.0  0.0  0.0  0.0  0.0  ...  0.0  0.0  0.0   \n",
              "4       0.0  0.0  0.0  0.0  0.0  0.0  0.0  0.0  0.0  0.0  ...  0.0  0.0  0.0   \n",
              "...     ...  ...  ...  ...  ...  ...  ...  ...  ...  ...  ...  ...  ...  ...   \n",
              "274088  0.0  0.0  0.0  0.0  0.0  0.0  0.0  0.0  0.0  0.0  ...  0.0  0.0  0.0   \n",
              "274089  0.0  0.0  0.0  0.0  0.0  0.0  0.0  0.0  0.0  0.0  ...  0.0  0.0  0.0   \n",
              "274090  0.0  0.0  0.0  0.0  0.0  0.0  0.0  0.0  0.0  0.0  ...  0.0  0.0  0.0   \n",
              "274091  0.0  0.0  0.0  0.0  0.0  0.0  0.0  0.0  0.0  0.0  ...  0.0  0.0  0.0   \n",
              "274092  0.0  0.0  0.0  0.0  0.0  0.0  0.0  0.0  0.0  0.0  ...  0.0  0.0  0.0   \n",
              "\n",
              "        778  779  780  781  782  783  784  \n",
              "0       0.0  0.0  0.0  0.0  0.0  0.0  0.0  \n",
              "1       0.0  0.0  0.0  0.0  0.0  0.0  0.0  \n",
              "2       0.0  0.0  0.0  0.0  0.0  0.0  0.0  \n",
              "3       0.0  0.0  0.0  0.0  0.0  0.0  0.0  \n",
              "4       0.0  0.0  0.0  0.0  0.0  0.0  0.0  \n",
              "...     ...  ...  ...  ...  ...  ...  ...  \n",
              "274088  0.0  0.0  0.0  0.0  0.0  0.0  0.0  \n",
              "274089  0.0  0.0  0.0  0.0  0.0  0.0  0.0  \n",
              "274090  0.0  0.0  0.0  0.0  0.0  0.0  0.0  \n",
              "274091  0.0  0.0  0.0  0.0  0.0  0.0  0.0  \n",
              "274092  0.0  0.0  0.0  0.0  0.0  0.0  0.0  \n",
              "\n",
              "[274093 rows x 784 columns]"
            ],
            "text/html": [
              "\n",
              "  <div id=\"df-c196b6bb-c6dc-48dd-bfe2-579468867729\">\n",
              "    <div class=\"colab-df-container\">\n",
              "      <div>\n",
              "<style scoped>\n",
              "    .dataframe tbody tr th:only-of-type {\n",
              "        vertical-align: middle;\n",
              "    }\n",
              "\n",
              "    .dataframe tbody tr th {\n",
              "        vertical-align: top;\n",
              "    }\n",
              "\n",
              "    .dataframe thead th {\n",
              "        text-align: right;\n",
              "    }\n",
              "</style>\n",
              "<table border=\"1\" class=\"dataframe\">\n",
              "  <thead>\n",
              "    <tr style=\"text-align: right;\">\n",
              "      <th></th>\n",
              "      <th>1</th>\n",
              "      <th>2</th>\n",
              "      <th>3</th>\n",
              "      <th>4</th>\n",
              "      <th>5</th>\n",
              "      <th>6</th>\n",
              "      <th>7</th>\n",
              "      <th>8</th>\n",
              "      <th>9</th>\n",
              "      <th>10</th>\n",
              "      <th>...</th>\n",
              "      <th>775</th>\n",
              "      <th>776</th>\n",
              "      <th>777</th>\n",
              "      <th>778</th>\n",
              "      <th>779</th>\n",
              "      <th>780</th>\n",
              "      <th>781</th>\n",
              "      <th>782</th>\n",
              "      <th>783</th>\n",
              "      <th>784</th>\n",
              "    </tr>\n",
              "  </thead>\n",
              "  <tbody>\n",
              "    <tr>\n",
              "      <th>0</th>\n",
              "      <td>0.0</td>\n",
              "      <td>0.0</td>\n",
              "      <td>0.0</td>\n",
              "      <td>0.0</td>\n",
              "      <td>0.0</td>\n",
              "      <td>0.0</td>\n",
              "      <td>0.0</td>\n",
              "      <td>0.0</td>\n",
              "      <td>0.0</td>\n",
              "      <td>0.0</td>\n",
              "      <td>...</td>\n",
              "      <td>0.0</td>\n",
              "      <td>0.0</td>\n",
              "      <td>0.0</td>\n",
              "      <td>0.0</td>\n",
              "      <td>0.0</td>\n",
              "      <td>0.0</td>\n",
              "      <td>0.0</td>\n",
              "      <td>0.0</td>\n",
              "      <td>0.0</td>\n",
              "      <td>0.0</td>\n",
              "    </tr>\n",
              "    <tr>\n",
              "      <th>1</th>\n",
              "      <td>0.0</td>\n",
              "      <td>0.0</td>\n",
              "      <td>0.0</td>\n",
              "      <td>0.0</td>\n",
              "      <td>0.0</td>\n",
              "      <td>0.0</td>\n",
              "      <td>0.0</td>\n",
              "      <td>0.0</td>\n",
              "      <td>0.0</td>\n",
              "      <td>0.0</td>\n",
              "      <td>...</td>\n",
              "      <td>0.0</td>\n",
              "      <td>0.0</td>\n",
              "      <td>0.0</td>\n",
              "      <td>0.0</td>\n",
              "      <td>0.0</td>\n",
              "      <td>0.0</td>\n",
              "      <td>0.0</td>\n",
              "      <td>0.0</td>\n",
              "      <td>0.0</td>\n",
              "      <td>0.0</td>\n",
              "    </tr>\n",
              "    <tr>\n",
              "      <th>2</th>\n",
              "      <td>0.0</td>\n",
              "      <td>0.0</td>\n",
              "      <td>0.0</td>\n",
              "      <td>0.0</td>\n",
              "      <td>0.0</td>\n",
              "      <td>0.0</td>\n",
              "      <td>0.0</td>\n",
              "      <td>0.0</td>\n",
              "      <td>0.0</td>\n",
              "      <td>0.0</td>\n",
              "      <td>...</td>\n",
              "      <td>0.0</td>\n",
              "      <td>0.0</td>\n",
              "      <td>0.0</td>\n",
              "      <td>0.0</td>\n",
              "      <td>0.0</td>\n",
              "      <td>0.0</td>\n",
              "      <td>0.0</td>\n",
              "      <td>0.0</td>\n",
              "      <td>0.0</td>\n",
              "      <td>0.0</td>\n",
              "    </tr>\n",
              "    <tr>\n",
              "      <th>3</th>\n",
              "      <td>0.0</td>\n",
              "      <td>0.0</td>\n",
              "      <td>0.0</td>\n",
              "      <td>0.0</td>\n",
              "      <td>0.0</td>\n",
              "      <td>0.0</td>\n",
              "      <td>0.0</td>\n",
              "      <td>0.0</td>\n",
              "      <td>0.0</td>\n",
              "      <td>0.0</td>\n",
              "      <td>...</td>\n",
              "      <td>0.0</td>\n",
              "      <td>0.0</td>\n",
              "      <td>0.0</td>\n",
              "      <td>0.0</td>\n",
              "      <td>0.0</td>\n",
              "      <td>0.0</td>\n",
              "      <td>0.0</td>\n",
              "      <td>0.0</td>\n",
              "      <td>0.0</td>\n",
              "      <td>0.0</td>\n",
              "    </tr>\n",
              "    <tr>\n",
              "      <th>4</th>\n",
              "      <td>0.0</td>\n",
              "      <td>0.0</td>\n",
              "      <td>0.0</td>\n",
              "      <td>0.0</td>\n",
              "      <td>0.0</td>\n",
              "      <td>0.0</td>\n",
              "      <td>0.0</td>\n",
              "      <td>0.0</td>\n",
              "      <td>0.0</td>\n",
              "      <td>0.0</td>\n",
              "      <td>...</td>\n",
              "      <td>0.0</td>\n",
              "      <td>0.0</td>\n",
              "      <td>0.0</td>\n",
              "      <td>0.0</td>\n",
              "      <td>0.0</td>\n",
              "      <td>0.0</td>\n",
              "      <td>0.0</td>\n",
              "      <td>0.0</td>\n",
              "      <td>0.0</td>\n",
              "      <td>0.0</td>\n",
              "    </tr>\n",
              "    <tr>\n",
              "      <th>...</th>\n",
              "      <td>...</td>\n",
              "      <td>...</td>\n",
              "      <td>...</td>\n",
              "      <td>...</td>\n",
              "      <td>...</td>\n",
              "      <td>...</td>\n",
              "      <td>...</td>\n",
              "      <td>...</td>\n",
              "      <td>...</td>\n",
              "      <td>...</td>\n",
              "      <td>...</td>\n",
              "      <td>...</td>\n",
              "      <td>...</td>\n",
              "      <td>...</td>\n",
              "      <td>...</td>\n",
              "      <td>...</td>\n",
              "      <td>...</td>\n",
              "      <td>...</td>\n",
              "      <td>...</td>\n",
              "      <td>...</td>\n",
              "      <td>...</td>\n",
              "    </tr>\n",
              "    <tr>\n",
              "      <th>274088</th>\n",
              "      <td>0.0</td>\n",
              "      <td>0.0</td>\n",
              "      <td>0.0</td>\n",
              "      <td>0.0</td>\n",
              "      <td>0.0</td>\n",
              "      <td>0.0</td>\n",
              "      <td>0.0</td>\n",
              "      <td>0.0</td>\n",
              "      <td>0.0</td>\n",
              "      <td>0.0</td>\n",
              "      <td>...</td>\n",
              "      <td>0.0</td>\n",
              "      <td>0.0</td>\n",
              "      <td>0.0</td>\n",
              "      <td>0.0</td>\n",
              "      <td>0.0</td>\n",
              "      <td>0.0</td>\n",
              "      <td>0.0</td>\n",
              "      <td>0.0</td>\n",
              "      <td>0.0</td>\n",
              "      <td>0.0</td>\n",
              "    </tr>\n",
              "    <tr>\n",
              "      <th>274089</th>\n",
              "      <td>0.0</td>\n",
              "      <td>0.0</td>\n",
              "      <td>0.0</td>\n",
              "      <td>0.0</td>\n",
              "      <td>0.0</td>\n",
              "      <td>0.0</td>\n",
              "      <td>0.0</td>\n",
              "      <td>0.0</td>\n",
              "      <td>0.0</td>\n",
              "      <td>0.0</td>\n",
              "      <td>...</td>\n",
              "      <td>0.0</td>\n",
              "      <td>0.0</td>\n",
              "      <td>0.0</td>\n",
              "      <td>0.0</td>\n",
              "      <td>0.0</td>\n",
              "      <td>0.0</td>\n",
              "      <td>0.0</td>\n",
              "      <td>0.0</td>\n",
              "      <td>0.0</td>\n",
              "      <td>0.0</td>\n",
              "    </tr>\n",
              "    <tr>\n",
              "      <th>274090</th>\n",
              "      <td>0.0</td>\n",
              "      <td>0.0</td>\n",
              "      <td>0.0</td>\n",
              "      <td>0.0</td>\n",
              "      <td>0.0</td>\n",
              "      <td>0.0</td>\n",
              "      <td>0.0</td>\n",
              "      <td>0.0</td>\n",
              "      <td>0.0</td>\n",
              "      <td>0.0</td>\n",
              "      <td>...</td>\n",
              "      <td>0.0</td>\n",
              "      <td>0.0</td>\n",
              "      <td>0.0</td>\n",
              "      <td>0.0</td>\n",
              "      <td>0.0</td>\n",
              "      <td>0.0</td>\n",
              "      <td>0.0</td>\n",
              "      <td>0.0</td>\n",
              "      <td>0.0</td>\n",
              "      <td>0.0</td>\n",
              "    </tr>\n",
              "    <tr>\n",
              "      <th>274091</th>\n",
              "      <td>0.0</td>\n",
              "      <td>0.0</td>\n",
              "      <td>0.0</td>\n",
              "      <td>0.0</td>\n",
              "      <td>0.0</td>\n",
              "      <td>0.0</td>\n",
              "      <td>0.0</td>\n",
              "      <td>0.0</td>\n",
              "      <td>0.0</td>\n",
              "      <td>0.0</td>\n",
              "      <td>...</td>\n",
              "      <td>0.0</td>\n",
              "      <td>0.0</td>\n",
              "      <td>0.0</td>\n",
              "      <td>0.0</td>\n",
              "      <td>0.0</td>\n",
              "      <td>0.0</td>\n",
              "      <td>0.0</td>\n",
              "      <td>0.0</td>\n",
              "      <td>0.0</td>\n",
              "      <td>0.0</td>\n",
              "    </tr>\n",
              "    <tr>\n",
              "      <th>274092</th>\n",
              "      <td>0.0</td>\n",
              "      <td>0.0</td>\n",
              "      <td>0.0</td>\n",
              "      <td>0.0</td>\n",
              "      <td>0.0</td>\n",
              "      <td>0.0</td>\n",
              "      <td>0.0</td>\n",
              "      <td>0.0</td>\n",
              "      <td>0.0</td>\n",
              "      <td>0.0</td>\n",
              "      <td>...</td>\n",
              "      <td>0.0</td>\n",
              "      <td>0.0</td>\n",
              "      <td>0.0</td>\n",
              "      <td>0.0</td>\n",
              "      <td>0.0</td>\n",
              "      <td>0.0</td>\n",
              "      <td>0.0</td>\n",
              "      <td>0.0</td>\n",
              "      <td>0.0</td>\n",
              "      <td>0.0</td>\n",
              "    </tr>\n",
              "  </tbody>\n",
              "</table>\n",
              "<p>274093 rows × 784 columns</p>\n",
              "</div>\n",
              "      <button class=\"colab-df-convert\" onclick=\"convertToInteractive('df-c196b6bb-c6dc-48dd-bfe2-579468867729')\"\n",
              "              title=\"Convert this dataframe to an interactive table.\"\n",
              "              style=\"display:none;\">\n",
              "        \n",
              "  <svg xmlns=\"http://www.w3.org/2000/svg\" height=\"24px\"viewBox=\"0 0 24 24\"\n",
              "       width=\"24px\">\n",
              "    <path d=\"M0 0h24v24H0V0z\" fill=\"none\"/>\n",
              "    <path d=\"M18.56 5.44l.94 2.06.94-2.06 2.06-.94-2.06-.94-.94-2.06-.94 2.06-2.06.94zm-11 1L8.5 8.5l.94-2.06 2.06-.94-2.06-.94L8.5 2.5l-.94 2.06-2.06.94zm10 10l.94 2.06.94-2.06 2.06-.94-2.06-.94-.94-2.06-.94 2.06-2.06.94z\"/><path d=\"M17.41 7.96l-1.37-1.37c-.4-.4-.92-.59-1.43-.59-.52 0-1.04.2-1.43.59L10.3 9.45l-7.72 7.72c-.78.78-.78 2.05 0 2.83L4 21.41c.39.39.9.59 1.41.59.51 0 1.02-.2 1.41-.59l7.78-7.78 2.81-2.81c.8-.78.8-2.07 0-2.86zM5.41 20L4 18.59l7.72-7.72 1.47 1.35L5.41 20z\"/>\n",
              "  </svg>\n",
              "      </button>\n",
              "      \n",
              "  <style>\n",
              "    .colab-df-container {\n",
              "      display:flex;\n",
              "      flex-wrap:wrap;\n",
              "      gap: 12px;\n",
              "    }\n",
              "\n",
              "    .colab-df-convert {\n",
              "      background-color: #E8F0FE;\n",
              "      border: none;\n",
              "      border-radius: 50%;\n",
              "      cursor: pointer;\n",
              "      display: none;\n",
              "      fill: #1967D2;\n",
              "      height: 32px;\n",
              "      padding: 0 0 0 0;\n",
              "      width: 32px;\n",
              "    }\n",
              "\n",
              "    .colab-df-convert:hover {\n",
              "      background-color: #E2EBFA;\n",
              "      box-shadow: 0px 1px 2px rgba(60, 64, 67, 0.3), 0px 1px 3px 1px rgba(60, 64, 67, 0.15);\n",
              "      fill: #174EA6;\n",
              "    }\n",
              "\n",
              "    [theme=dark] .colab-df-convert {\n",
              "      background-color: #3B4455;\n",
              "      fill: #D2E3FC;\n",
              "    }\n",
              "\n",
              "    [theme=dark] .colab-df-convert:hover {\n",
              "      background-color: #434B5C;\n",
              "      box-shadow: 0px 1px 3px 1px rgba(0, 0, 0, 0.15);\n",
              "      filter: drop-shadow(0px 1px 2px rgba(0, 0, 0, 0.3));\n",
              "      fill: #FFFFFF;\n",
              "    }\n",
              "  </style>\n",
              "\n",
              "      <script>\n",
              "        const buttonEl =\n",
              "          document.querySelector('#df-c196b6bb-c6dc-48dd-bfe2-579468867729 button.colab-df-convert');\n",
              "        buttonEl.style.display =\n",
              "          google.colab.kernel.accessAllowed ? 'block' : 'none';\n",
              "\n",
              "        async function convertToInteractive(key) {\n",
              "          const element = document.querySelector('#df-c196b6bb-c6dc-48dd-bfe2-579468867729');\n",
              "          const dataTable =\n",
              "            await google.colab.kernel.invokeFunction('convertToInteractive',\n",
              "                                                     [key], {});\n",
              "          if (!dataTable) return;\n",
              "\n",
              "          const docLinkHtml = 'Like what you see? Visit the ' +\n",
              "            '<a target=\"_blank\" href=https://colab.research.google.com/notebooks/data_table.ipynb>data table notebook</a>'\n",
              "            + ' to learn more about interactive tables.';\n",
              "          element.innerHTML = '';\n",
              "          dataTable['output_type'] = 'display_data';\n",
              "          await google.colab.output.renderOutput(dataTable, element);\n",
              "          const docLink = document.createElement('div');\n",
              "          docLink.innerHTML = docLinkHtml;\n",
              "          element.appendChild(docLink);\n",
              "        }\n",
              "      </script>\n",
              "    </div>\n",
              "  </div>\n",
              "  "
            ]
          },
          "metadata": {},
          "execution_count": 14
        }
      ]
    },
    {
      "cell_type": "code",
      "source": [
        "y"
      ],
      "metadata": {
        "execution": {
          "iopub.status.busy": "2023-04-15T20:02:18.645723Z",
          "iopub.execute_input": "2023-04-15T20:02:18.646528Z",
          "iopub.status.idle": "2023-04-15T20:02:18.657992Z",
          "shell.execute_reply.started": "2023-04-15T20:02:18.646476Z",
          "shell.execute_reply": "2023-04-15T20:02:18.655986Z"
        },
        "trusted": true,
        "colab": {
          "base_uri": "https://localhost:8080/",
          "height": 424
        },
        "id": "mv7ZjNhMLQ7C",
        "outputId": "ae65afca-edd0-41ff-f4ce-c5327d5af1dc"
      },
      "execution_count": 15,
      "outputs": [
        {
          "output_type": "execute_result",
          "data": {
            "text/plain": [
              "       labels\n",
              "0           6\n",
              "1           D\n",
              "2           f\n",
              "3           /\n",
              "4           F\n",
              "...       ...\n",
              "274088      6\n",
              "274089      <\n",
              "274090      z\n",
              "274091      ~\n",
              "274092      I\n",
              "\n",
              "[274093 rows x 1 columns]"
            ],
            "text/html": [
              "\n",
              "  <div id=\"df-ccd753d2-307d-4cdf-b983-e2507500c41b\">\n",
              "    <div class=\"colab-df-container\">\n",
              "      <div>\n",
              "<style scoped>\n",
              "    .dataframe tbody tr th:only-of-type {\n",
              "        vertical-align: middle;\n",
              "    }\n",
              "\n",
              "    .dataframe tbody tr th {\n",
              "        vertical-align: top;\n",
              "    }\n",
              "\n",
              "    .dataframe thead th {\n",
              "        text-align: right;\n",
              "    }\n",
              "</style>\n",
              "<table border=\"1\" class=\"dataframe\">\n",
              "  <thead>\n",
              "    <tr style=\"text-align: right;\">\n",
              "      <th></th>\n",
              "      <th>labels</th>\n",
              "    </tr>\n",
              "  </thead>\n",
              "  <tbody>\n",
              "    <tr>\n",
              "      <th>0</th>\n",
              "      <td>6</td>\n",
              "    </tr>\n",
              "    <tr>\n",
              "      <th>1</th>\n",
              "      <td>D</td>\n",
              "    </tr>\n",
              "    <tr>\n",
              "      <th>2</th>\n",
              "      <td>f</td>\n",
              "    </tr>\n",
              "    <tr>\n",
              "      <th>3</th>\n",
              "      <td>/</td>\n",
              "    </tr>\n",
              "    <tr>\n",
              "      <th>4</th>\n",
              "      <td>F</td>\n",
              "    </tr>\n",
              "    <tr>\n",
              "      <th>...</th>\n",
              "      <td>...</td>\n",
              "    </tr>\n",
              "    <tr>\n",
              "      <th>274088</th>\n",
              "      <td>6</td>\n",
              "    </tr>\n",
              "    <tr>\n",
              "      <th>274089</th>\n",
              "      <td>&lt;</td>\n",
              "    </tr>\n",
              "    <tr>\n",
              "      <th>274090</th>\n",
              "      <td>z</td>\n",
              "    </tr>\n",
              "    <tr>\n",
              "      <th>274091</th>\n",
              "      <td>~</td>\n",
              "    </tr>\n",
              "    <tr>\n",
              "      <th>274092</th>\n",
              "      <td>I</td>\n",
              "    </tr>\n",
              "  </tbody>\n",
              "</table>\n",
              "<p>274093 rows × 1 columns</p>\n",
              "</div>\n",
              "      <button class=\"colab-df-convert\" onclick=\"convertToInteractive('df-ccd753d2-307d-4cdf-b983-e2507500c41b')\"\n",
              "              title=\"Convert this dataframe to an interactive table.\"\n",
              "              style=\"display:none;\">\n",
              "        \n",
              "  <svg xmlns=\"http://www.w3.org/2000/svg\" height=\"24px\"viewBox=\"0 0 24 24\"\n",
              "       width=\"24px\">\n",
              "    <path d=\"M0 0h24v24H0V0z\" fill=\"none\"/>\n",
              "    <path d=\"M18.56 5.44l.94 2.06.94-2.06 2.06-.94-2.06-.94-.94-2.06-.94 2.06-2.06.94zm-11 1L8.5 8.5l.94-2.06 2.06-.94-2.06-.94L8.5 2.5l-.94 2.06-2.06.94zm10 10l.94 2.06.94-2.06 2.06-.94-2.06-.94-.94-2.06-.94 2.06-2.06.94z\"/><path d=\"M17.41 7.96l-1.37-1.37c-.4-.4-.92-.59-1.43-.59-.52 0-1.04.2-1.43.59L10.3 9.45l-7.72 7.72c-.78.78-.78 2.05 0 2.83L4 21.41c.39.39.9.59 1.41.59.51 0 1.02-.2 1.41-.59l7.78-7.78 2.81-2.81c.8-.78.8-2.07 0-2.86zM5.41 20L4 18.59l7.72-7.72 1.47 1.35L5.41 20z\"/>\n",
              "  </svg>\n",
              "      </button>\n",
              "      \n",
              "  <style>\n",
              "    .colab-df-container {\n",
              "      display:flex;\n",
              "      flex-wrap:wrap;\n",
              "      gap: 12px;\n",
              "    }\n",
              "\n",
              "    .colab-df-convert {\n",
              "      background-color: #E8F0FE;\n",
              "      border: none;\n",
              "      border-radius: 50%;\n",
              "      cursor: pointer;\n",
              "      display: none;\n",
              "      fill: #1967D2;\n",
              "      height: 32px;\n",
              "      padding: 0 0 0 0;\n",
              "      width: 32px;\n",
              "    }\n",
              "\n",
              "    .colab-df-convert:hover {\n",
              "      background-color: #E2EBFA;\n",
              "      box-shadow: 0px 1px 2px rgba(60, 64, 67, 0.3), 0px 1px 3px 1px rgba(60, 64, 67, 0.15);\n",
              "      fill: #174EA6;\n",
              "    }\n",
              "\n",
              "    [theme=dark] .colab-df-convert {\n",
              "      background-color: #3B4455;\n",
              "      fill: #D2E3FC;\n",
              "    }\n",
              "\n",
              "    [theme=dark] .colab-df-convert:hover {\n",
              "      background-color: #434B5C;\n",
              "      box-shadow: 0px 1px 3px 1px rgba(0, 0, 0, 0.15);\n",
              "      filter: drop-shadow(0px 1px 2px rgba(0, 0, 0, 0.3));\n",
              "      fill: #FFFFFF;\n",
              "    }\n",
              "  </style>\n",
              "\n",
              "      <script>\n",
              "        const buttonEl =\n",
              "          document.querySelector('#df-ccd753d2-307d-4cdf-b983-e2507500c41b button.colab-df-convert');\n",
              "        buttonEl.style.display =\n",
              "          google.colab.kernel.accessAllowed ? 'block' : 'none';\n",
              "\n",
              "        async function convertToInteractive(key) {\n",
              "          const element = document.querySelector('#df-ccd753d2-307d-4cdf-b983-e2507500c41b');\n",
              "          const dataTable =\n",
              "            await google.colab.kernel.invokeFunction('convertToInteractive',\n",
              "                                                     [key], {});\n",
              "          if (!dataTable) return;\n",
              "\n",
              "          const docLinkHtml = 'Like what you see? Visit the ' +\n",
              "            '<a target=\"_blank\" href=https://colab.research.google.com/notebooks/data_table.ipynb>data table notebook</a>'\n",
              "            + ' to learn more about interactive tables.';\n",
              "          element.innerHTML = '';\n",
              "          dataTable['output_type'] = 'display_data';\n",
              "          await google.colab.output.renderOutput(dataTable, element);\n",
              "          const docLink = document.createElement('div');\n",
              "          docLink.innerHTML = docLinkHtml;\n",
              "          element.appendChild(docLink);\n",
              "        }\n",
              "      </script>\n",
              "    </div>\n",
              "  </div>\n",
              "  "
            ]
          },
          "metadata": {},
          "execution_count": 15
        }
      ]
    },
    {
      "cell_type": "code",
      "source": [
        "# Creating a data dictionary of the alphabets \n",
        "data_labels = y['labels'].unique()\n",
        "index = [num for num in range(len(df['labels'].unique()))]\n",
        "dictionary = dict(zip(data_labels,index))\n",
        "data_dict = dict(zip(index,data_labels))"
      ],
      "metadata": {
        "execution": {
          "iopub.status.busy": "2023-04-15T20:12:03.888410Z",
          "iopub.execute_input": "2023-04-15T20:12:03.889369Z",
          "iopub.status.idle": "2023-04-15T20:12:03.932518Z",
          "shell.execute_reply.started": "2023-04-15T20:12:03.889316Z",
          "shell.execute_reply": "2023-04-15T20:12:03.930994Z"
        },
        "trusted": true,
        "id": "2uUz23ftLQ7C"
      },
      "execution_count": 16,
      "outputs": []
    },
    {
      "cell_type": "code",
      "source": [
        "print(data_dict)"
      ],
      "metadata": {
        "execution": {
          "iopub.status.busy": "2023-04-15T20:12:03.935003Z",
          "iopub.execute_input": "2023-04-15T20:12:03.935555Z",
          "iopub.status.idle": "2023-04-15T20:12:03.942432Z",
          "shell.execute_reply.started": "2023-04-15T20:12:03.935496Z",
          "shell.execute_reply": "2023-04-15T20:12:03.941075Z"
        },
        "trusted": true,
        "colab": {
          "base_uri": "https://localhost:8080/"
        },
        "id": "eZNq2DiILQ7C",
        "outputId": "4f7f9d64-d9f4-4804-ed86-3070c90e96e8"
      },
      "execution_count": 17,
      "outputs": [
        {
          "output_type": "stream",
          "name": "stdout",
          "text": [
            "{0: '6', 1: 'D', 2: 'f', 3: '/', 4: 'F', 5: 'x', 6: 'J', 7: '8', 8: 'H', 9: 'k', 10: '@', 11: '1', 12: '=', 13: 'g', 14: ')', 15: '2', 16: 'd', 17: '^', 18: '3', 19: 't', 20: '#', 21: '.', 22: '4', 23: 'o', 24: '\"', 25: 'y', 26: 'A', 27: 'u', 28: 'G', 29: '-', 30: 'm', 31: 'W', 32: '&', 33: 'c', 34: '9', 35: 'N', 36: ']', 37: 'P', 38: 'X', 39: '|', 40: '}', 41: 'h', 42: '7', 43: 'j', 44: '5', 45: '>', 46: '?', 47: 'b', 48: '*', 49: 'w', 50: 'l', 51: '0', 52: '$', 53: 'I', 54: 'Y', 55: '%', 56: ':', 57: 'T', 58: 'K', 59: 'E', 60: '<', 61: 'V', 62: '{', 63: 'M', 64: 'S', 65: 'a', 66: 'i', 67: 'r', 68: \"'\", 69: 'p', 70: ';', 71: '[', 72: '+', 73: 'e', 74: 'U', 75: '(', 76: 's', 77: '~', 78: ',', 79: 'C', 80: 'q', 81: '_', 82: 'n', 83: 'B', 84: 'z', 85: 'v', 86: 'O', 87: 'R', 88: '`', 89: 'Z', 90: 'Q', 91: 'L', 92: '!', 93: '\\\\'}\n"
          ]
        }
      ]
    },
    {
      "cell_type": "code",
      "source": [
        "# Mapping the dataset\n",
        "y['labels'].replace(dictionary, inplace = True)"
      ],
      "metadata": {
        "execution": {
          "iopub.status.busy": "2023-04-15T20:12:28.651935Z",
          "iopub.execute_input": "2023-04-15T20:12:28.654804Z",
          "iopub.status.idle": "2023-04-15T20:12:29.759752Z",
          "shell.execute_reply.started": "2023-04-15T20:12:28.654573Z",
          "shell.execute_reply": "2023-04-15T20:12:29.758492Z"
        },
        "trusted": true,
        "id": "VyEbGpiZLQ7D"
      },
      "execution_count": 18,
      "outputs": []
    },
    {
      "cell_type": "code",
      "source": [
        "print(y)"
      ],
      "metadata": {
        "execution": {
          "iopub.status.busy": "2023-04-15T20:12:34.975730Z",
          "iopub.execute_input": "2023-04-15T20:12:34.976167Z",
          "iopub.status.idle": "2023-04-15T20:12:34.982596Z",
          "shell.execute_reply.started": "2023-04-15T20:12:34.976118Z",
          "shell.execute_reply": "2023-04-15T20:12:34.981071Z"
        },
        "trusted": true,
        "colab": {
          "base_uri": "https://localhost:8080/"
        },
        "id": "k--qA6OyLQ7D",
        "outputId": "6d151e99-7d0e-44f3-ebe5-4f60c70597c1"
      },
      "execution_count": 19,
      "outputs": [
        {
          "output_type": "stream",
          "name": "stdout",
          "text": [
            "        labels\n",
            "0            0\n",
            "1            1\n",
            "2            2\n",
            "3            3\n",
            "4            4\n",
            "...        ...\n",
            "274088       0\n",
            "274089      60\n",
            "274090      84\n",
            "274091      77\n",
            "274092      53\n",
            "\n",
            "[274093 rows x 1 columns]\n"
          ]
        }
      ]
    },
    {
      "cell_type": "code",
      "source": [
        "# Splitting the Data set into 80% Training set and 20% Test set\n",
        "X_train, X_test, y_train, y_test = train_test_split(X, y, test_size = 0.2, random_state = 0)"
      ],
      "metadata": {
        "execution": {
          "iopub.status.busy": "2023-04-15T20:12:34.985344Z",
          "iopub.execute_input": "2023-04-15T20:12:34.986859Z",
          "iopub.status.idle": "2023-04-15T20:12:36.189133Z",
          "shell.execute_reply.started": "2023-04-15T20:12:34.986801Z",
          "shell.execute_reply": "2023-04-15T20:12:36.187420Z"
        },
        "trusted": true,
        "id": "KzhfRwipLQ7D"
      },
      "execution_count": 20,
      "outputs": []
    },
    {
      "cell_type": "code",
      "source": [
        "# Prepping the inputs for Training\n",
        "l, h = 28,28\n",
        "unique = y_train.nunique()[0]\n",
        "\n",
        "# Reshape the input data to be the size of 28x28\n",
        "X_train = np.reshape(X_train.values, (X_train.shape[0] ,l, h)) \n",
        "X_test = np.reshape(X_test.values, (X_test.shape[0] ,l, h))\n",
        "\n",
        "# Convert the Target variables into Categorical Values\n",
        "y_train = to_categorical(y_train, unique, dtype='int' )\n",
        "y_test = to_categorical(y_test, unique, dtype='int' )\n",
        "\n",
        "print(f'X:Train, Test data shape:{X_train.shape},{X_test.shape}')\n",
        "print(f'Y:Train, Test data shape:{y_train.shape},{y_test.shape}')"
      ],
      "metadata": {
        "execution": {
          "iopub.status.busy": "2023-04-15T20:12:36.191315Z",
          "iopub.execute_input": "2023-04-15T20:12:36.192014Z",
          "iopub.status.idle": "2023-04-15T20:12:36.257436Z",
          "shell.execute_reply.started": "2023-04-15T20:12:36.191965Z",
          "shell.execute_reply": "2023-04-15T20:12:36.256143Z"
        },
        "trusted": true,
        "colab": {
          "base_uri": "https://localhost:8080/"
        },
        "id": "8YRuCD8mLQ7D",
        "outputId": "5ec655fe-5535-4c78-b167-55f859b0d244"
      },
      "execution_count": 21,
      "outputs": [
        {
          "output_type": "stream",
          "name": "stdout",
          "text": [
            "X:Train, Test data shape:(219274, 28, 28),(54819, 28, 28)\n",
            "Y:Train, Test data shape:(219274, 94),(54819, 94)\n"
          ]
        }
      ]
    },
    {
      "cell_type": "markdown",
      "source": [
        "## Data Visualization"
      ],
      "metadata": {
        "id": "S7zmvVf5QeS0"
      }
    },
    {
      "cell_type": "code",
      "source": [
        "# Displaying the character images of our dataset\n",
        "rand = shuffle(X_train[:500])\n",
        "fig,ax = plt.subplots(3,4 , figsize = (10,10)) \n",
        "axes = ax.flatten()\n",
        "for i in range(12):\n",
        "    img = np.reshape(rand[i], (28,28)) # reshaping it for displaying\n",
        "    axes[i].imshow(img)\n",
        "    img_final =np.reshape(img, (1,28,28,1)) # reshapng it for passing into model for prediction\n",
        "    axes[i].grid()"
      ],
      "metadata": {
        "execution": {
          "iopub.status.busy": "2023-04-15T20:12:36.259890Z",
          "iopub.execute_input": "2023-04-15T20:12:36.260346Z",
          "iopub.status.idle": "2023-04-15T20:12:38.059683Z",
          "shell.execute_reply.started": "2023-04-15T20:12:36.260310Z",
          "shell.execute_reply": "2023-04-15T20:12:38.058678Z"
        },
        "trusted": true,
        "colab": {
          "base_uri": "https://localhost:8080/",
          "height": 775
        },
        "id": "-vhii2uiLQ7E",
        "outputId": "ee575988-ed20-44b3-df55-a4173766b11e"
      },
      "execution_count": 22,
      "outputs": [
        {
          "output_type": "display_data",
          "data": {
            "text/plain": [
              "<Figure size 1000x1000 with 12 Axes>"
            ],
            "image/png": "[encoded data removed]"
          },
          "metadata": {}
        }
      ]
    },
    {
      "cell_type": "code",
      "source": [
        "# Adding a fourth dimension to the input data to represent the number of color channels\n",
        "RGB = 1\n",
        "X_train = X_train.reshape(X_train.shape[0], X_train.shape[1],X_train.shape[2], RGB)\n",
        "X_test = X_test.reshape(X_test.shape[0], X_test.shape[1], X_test.shape[2],RGB)\n",
        "\n",
        "# Normalizing the image data\n",
        "X_train = X_train/255\n",
        "X_test = X_test/255\n",
        "\n",
        "# Printing the shape of normalized data\n",
        "print(f'Train, Test shapes: {X_train.shape},{X_test.shape}')"
      ],
      "metadata": {
        "execution": {
          "iopub.status.busy": "2023-04-15T20:12:38.061016Z",
          "iopub.execute_input": "2023-04-15T20:12:38.061826Z",
          "iopub.status.idle": "2023-04-15T20:12:38.408049Z",
          "shell.execute_reply.started": "2023-04-15T20:12:38.061780Z",
          "shell.execute_reply": "2023-04-15T20:12:38.406689Z"
        },
        "trusted": true,
        "colab": {
          "base_uri": "https://localhost:8080/"
        },
        "id": "m5et_PWoLQ7E",
        "outputId": "437e28aa-f90d-4757-d70d-fbc5666c4afd"
      },
      "execution_count": 23,
      "outputs": [
        {
          "output_type": "stream",
          "name": "stdout",
          "text": [
            "Train, Test shapes: (219274, 28, 28, 1),(54819, 28, 28, 1)\n"
          ]
        }
      ]
    },
    {
      "cell_type": "markdown",
      "source": [
        "## Convolutional Neural Network\n",
        "A convolutional neural network (CNN) is a type of artificial neural network that is commonly used in image recognition and computer vision tasks. It is designed to process data with a grid-like topology, such as images, by applying filters or kernels to the input data in order to extract relevant features.\n",
        "\n",
        "CNNs are inspired by the structure of the visual cortex in the brain, where different neurons respond to different parts of the visual field. Similarly, in a CNN, different filters or kernels are used to detect different features of an image, such as edges, shapes, and patterns.\n",
        "\n",
        "\n",
        "<img src = \"https://editor.analyticsvidhya.com/uploads/183560_qcMBDPuKpDvICcdd.png\">\n",
        "\n",
        "A typical convolutional neural network (CNN) consists of several layers that are designed to extract features from input data, such as images. CNN consists of the following components:\n",
        "\n",
        "\n",
        "### 1. Input Layer \n",
        "\n",
        "The input layer is the first layer of the network and is responsible for receiving the input data, such as an image.\n",
        "\n",
        "### 2. Convolutional Layer\n",
        "The convolutional layer is responsible for applying filters or kernels to the input data in order to extract features. Each filter detects a specific pattern or feature in the input data, such as edges, corners, or other shapes.\n",
        "\n",
        "### 3. ReLU Layer \n",
        "The ReLU (Rectified Linear Unit) layer applies a non-linear activation function to the output of the convolutional layer. The ReLU function sets all negative values to zero, which helps to introduce non-linearity into the network and improve its ability to learn complex patterns.\n",
        "\n",
        "### 4. Pooling Layer \n",
        "The pooling layer is used to downsample the output of the convolutional layer, reducing the spatial resolution and making the network more computationally efficient. Common types of pooling layers include max pooling, which takes the maximum value within a specified window, and average pooling, which takes the average value.\n",
        "\n",
        "### 5. Dropout Layer \n",
        "\n",
        "The dropout layer is used to prevent overfitting by randomly dropping out some of the neurons in the network during training.\n",
        "\n",
        "### 6. Fully Connected Layer \n",
        "The fully connected layer is responsible for making the actual predictions based on the extracted features. It takes the output of the previous layers and applies a set of weights to produce a set of scores or probabilities.\n",
        "\n",
        "### 7. Output Layer \n",
        "The output layer produces the final output of the network, which can be a classification or regression output depending on the task.\n",
        "\n",
        "Refer: https://www.analyticsvidhya.com/blog/2021/05/convolutional-neural-networks-cnn/"
      ],
      "metadata": {
        "id": "UbC7pOOPQyo5"
      }
    },
    {
      "cell_type": "code",
      "source": [
        "model = Sequential()\n",
        "\n",
        "# Adding a 2D convolutional layer to the model with 32 filters and a kernel size of 3x3\n",
        "model.add(Conv2D(filters = 32 , kernel_size = (3,3),input_shape = (l, h, RGB), padding = 'same',))\n",
        "\n",
        "# Adding a batch normalization layer to the model to improve the training of the neural network by normalizing the inputs\n",
        "model.add(BatchNormalization())\n",
        "\n",
        "# Adding a ReLU activation function to the model to introduce non-linearity into the neural network\n",
        "model.add(tf.keras.layers.Activation('relu'))\n",
        "\n",
        "# Adding a max pooling layer to the model to reduce the spatial dimensions of the input image by taking the maximum value within a specified pool size\n",
        "model.add(MaxPool2D(pool_size = (2,2)))\n",
        "\n",
        "# Adding a dropout layer to the model to randomly set 25% of the input units to 0 at each update during training time to prevent overfitting.\n",
        "model.add(Dropout(0.25))"
      ],
      "metadata": {
        "execution": {
          "iopub.status.busy": "2023-04-15T20:12:38.410507Z",
          "iopub.execute_input": "2023-04-15T20:12:38.410880Z",
          "iopub.status.idle": "2023-04-15T20:12:38.533198Z",
          "shell.execute_reply.started": "2023-04-15T20:12:38.410843Z",
          "shell.execute_reply": "2023-04-15T20:12:38.531722Z"
        },
        "trusted": true,
        "id": "KnPpNrywLQ7E"
      },
      "execution_count": 24,
      "outputs": []
    },
    {
      "cell_type": "code",
      "source": [
        "model.add(Conv2D(filters = 64, kernel_size = (3,3), padding = 'same'))\n",
        "model.add(BatchNormalization())\n",
        "model.add(tf.keras.layers.Activation('relu'))\n",
        "model.add(MaxPool2D(pool_size = (2,2)))\n",
        "model.add(Dropout(0.25))"
      ],
      "metadata": {
        "execution": {
          "iopub.status.busy": "2023-04-15T20:12:38.534777Z",
          "iopub.execute_input": "2023-04-15T20:12:38.535162Z",
          "iopub.status.idle": "2023-04-15T20:12:38.592717Z",
          "shell.execute_reply.started": "2023-04-15T20:12:38.535124Z",
          "shell.execute_reply": "2023-04-15T20:12:38.591301Z"
        },
        "trusted": true,
        "id": "47HVPkuXLQ7F"
      },
      "execution_count": 25,
      "outputs": []
    },
    {
      "cell_type": "markdown",
      "source": [
        "These lines add additional convolutional, batch normalization, activation, max pooling, and dropout layers to the model with similar settings to the previous layers, but with increased filter size (64)."
      ],
      "metadata": {
        "id": "oj87pMFLYLmy"
      }
    },
    {
      "cell_type": "code",
      "source": [
        "model.add(Conv2D(filters = 128, kernel_size = (3,3), padding = 'same'))\n",
        "model.add(BatchNormalization())\n",
        "model.add(tf.keras.layers.Activation('relu'))\n",
        "model.add(MaxPool2D(pool_size = (2,2)))\n",
        "model.add(Dropout(0.25))"
      ],
      "metadata": {
        "execution": {
          "iopub.status.busy": "2023-04-15T20:12:38.594682Z",
          "iopub.execute_input": "2023-04-15T20:12:38.595114Z",
          "iopub.status.idle": "2023-04-15T20:12:38.653848Z",
          "shell.execute_reply.started": "2023-04-15T20:12:38.595061Z",
          "shell.execute_reply": "2023-04-15T20:12:38.652346Z"
        },
        "trusted": true,
        "id": "nLXr0C9ULQ7F"
      },
      "execution_count": 26,
      "outputs": []
    },
    {
      "cell_type": "markdown",
      "source": [
        "These lines add more convolutional, batch normalization, activation, max pooling, and dropout layers to the model with increased filter size again (128)."
      ],
      "metadata": {
        "id": "Qlx-qYzxYVrt"
      }
    },
    {
      "cell_type": "code",
      "source": [
        "model.add(Conv2D(filters = 256, kernel_size = (3,3), padding = 'same'))\n",
        "model.add(BatchNormalization())\n",
        "model.add(tf.keras.layers.Activation('relu'))\n",
        "model.add(MaxPool2D(pool_size = (2,2)))\n",
        "model.add(Dropout(0.25))"
      ],
      "metadata": {
        "execution": {
          "iopub.status.busy": "2023-04-15T20:12:38.658146Z",
          "iopub.execute_input": "2023-04-15T20:12:38.659077Z",
          "iopub.status.idle": "2023-04-15T20:12:38.719630Z",
          "shell.execute_reply.started": "2023-04-15T20:12:38.659026Z",
          "shell.execute_reply": "2023-04-15T20:12:38.718522Z"
        },
        "trusted": true,
        "id": "6lbjadRELQ7F"
      },
      "execution_count": 27,
      "outputs": []
    },
    {
      "cell_type": "markdown",
      "source": [
        "These lines add even more convolutional, batch normalization, activation, max pooling, and dropout layers to the model with increased filter size yet again (256)."
      ],
      "metadata": {
        "id": "AoLh3YuyYY63"
      }
    },
    {
      "cell_type": "code",
      "source": [
        "# Flattening the output from the convolutional layers into a one-dimensional array to input into a fully connected layer\n",
        "model.add(Flatten())"
      ],
      "metadata": {
        "execution": {
          "iopub.status.busy": "2023-04-15T20:12:38.721378Z",
          "iopub.execute_input": "2023-04-15T20:12:38.722390Z",
          "iopub.status.idle": "2023-04-15T20:12:38.818347Z",
          "shell.execute_reply.started": "2023-04-15T20:12:38.722326Z",
          "shell.execute_reply": "2023-04-15T20:12:38.816985Z"
        },
        "trusted": true,
        "id": "fw4HgcjGLQ7F"
      },
      "execution_count": 28,
      "outputs": []
    },
    {
      "cell_type": "code",
      "source": [
        "# Adding a fully connected layer with 350 neurons, followed by batch normalization, activation, and dropout layers.\n",
        "model.add(Dense(350))\n",
        "model.add(BatchNormalization())\n",
        "model.add(tf.keras.layers.Activation('relu'))\n",
        "model.add(Dropout(0.25))"
      ],
      "metadata": {
        "id": "Uzv9vkyWYz1y"
      },
      "execution_count": 29,
      "outputs": []
    },
    {
      "cell_type": "code",
      "source": [
        "# Adding the output layer to the model, which is a fully connected neural network layer with the softmax activation function\n",
        "model.add(Dense(unique, activation = 'softmax'))"
      ],
      "metadata": {
        "id": "KpZOqRCLY3Yk"
      },
      "execution_count": 30,
      "outputs": []
    },
    {
      "cell_type": "code",
      "source": [
        "# Displaying the model summary\n",
        "model.summary()"
      ],
      "metadata": {
        "execution": {
          "iopub.status.busy": "2023-04-15T20:12:38.819964Z",
          "iopub.execute_input": "2023-04-15T20:12:38.820369Z",
          "iopub.status.idle": "2023-04-15T20:12:38.922393Z",
          "shell.execute_reply.started": "2023-04-15T20:12:38.820328Z",
          "shell.execute_reply": "2023-04-15T20:12:38.921021Z"
        },
        "trusted": true,
        "colab": {
          "base_uri": "https://localhost:8080/"
        },
        "id": "LcCTUq2ILQ7G",
        "outputId": "7179433d-8da0-4801-f107-e6eeddb5cc7f"
      },
      "execution_count": 31,
      "outputs": [
        {
          "output_type": "stream",
          "name": "stdout",
          "text": [
            "Model: \"sequential\"\n",
            "_________________________________________________________________\n",
            " Layer (type)                Output Shape              Param #   \n",
            "=================================================================\n",
            " conv2d (Conv2D)             (None, 28, 28, 32)        320       \n",
            "                                                                 \n",
            " batch_normalization (BatchN  (None, 28, 28, 32)       128       \n",
            " ormalization)                                                   \n",
            "                                                                 \n",
            " activation (Activation)     (None, 28, 28, 32)        0         \n",
            "                                                                 \n",
            " max_pooling2d (MaxPooling2D  (None, 14, 14, 32)       0         \n",
            " )                                                               \n",
            "                                                                 \n",
            " dropout (Dropout)           (None, 14, 14, 32)        0         \n",
            "                                                                 \n",
            " conv2d_1 (Conv2D)           (None, 14, 14, 64)        18496     \n",
            "                                                                 \n",
            " batch_normalization_1 (Batc  (None, 14, 14, 64)       256       \n",
            " hNormalization)                                                 \n",
            "                                                                 \n",
            " activation_1 (Activation)   (None, 14, 14, 64)        0         \n",
            "                                                                 \n",
            " max_pooling2d_1 (MaxPooling  (None, 7, 7, 64)         0         \n",
            " 2D)                                                             \n",
            "                                                                 \n",
            " dropout_1 (Dropout)         (None, 7, 7, 64)          0         \n",
            "                                                                 \n",
            " conv2d_2 (Conv2D)           (None, 7, 7, 128)         73856     \n",
            "                                                                 \n",
            " batch_normalization_2 (Batc  (None, 7, 7, 128)        512       \n",
            " hNormalization)                                                 \n",
            "                                                                 \n",
            " activation_2 (Activation)   (None, 7, 7, 128)         0         \n",
            "                                                                 \n",
            " max_pooling2d_2 (MaxPooling  (None, 3, 3, 128)        0         \n",
            " 2D)                                                             \n",
            "                                                                 \n",
            " dropout_2 (Dropout)         (None, 3, 3, 128)         0         \n",
            "                                                                 \n",
            " conv2d_3 (Conv2D)           (None, 3, 3, 256)         295168    \n",
            "                                                                 \n",
            " batch_normalization_3 (Batc  (None, 3, 3, 256)        1024      \n",
            " hNormalization)                                                 \n",
            "                                                                 \n",
            " activation_3 (Activation)   (None, 3, 3, 256)         0         \n",
            "                                                                 \n",
            " max_pooling2d_3 (MaxPooling  (None, 1, 1, 256)        0         \n",
            " 2D)                                                             \n",
            "                                                                 \n",
            " dropout_3 (Dropout)         (None, 1, 1, 256)         0         \n",
            "                                                                 \n",
            " flatten (Flatten)           (None, 256)               0         \n",
            "                                                                 \n",
            " dense (Dense)               (None, 350)               89950     \n",
            "                                                                 \n",
            " batch_normalization_4 (Batc  (None, 350)              1400      \n",
            " hNormalization)                                                 \n",
            "                                                                 \n",
            " activation_4 (Activation)   (None, 350)               0         \n",
            "                                                                 \n",
            " dropout_4 (Dropout)         (None, 350)               0         \n",
            "                                                                 \n",
            " dense_1 (Dense)             (None, 94)                32994     \n",
            "                                                                 \n",
            "=================================================================\n",
            "Total params: 514,104\n",
            "Trainable params: 512,444\n",
            "Non-trainable params: 1,660\n",
            "_________________________________________________________________\n"
          ]
        }
      ]
    },
    {
      "cell_type": "code",
      "source": [
        "# Defining parameters for Training the model\n",
        "optimizer  = Adam(learning_rate=0.01)\n",
        "callback = EarlyStopping(monitor='loss', patience=5)\n",
        "Batch = 64\n",
        "Epochs = 100\n",
        "\n",
        "model.compile(loss = 'categorical_crossentropy', optimizer = optimizer, metrics = ['accuracy'])"
      ],
      "metadata": {
        "execution": {
          "iopub.status.busy": "2023-04-15T20:12:38.925018Z",
          "iopub.execute_input": "2023-04-15T20:12:38.925714Z",
          "iopub.status.idle": "2023-04-15T20:12:38.952927Z",
          "shell.execute_reply.started": "2023-04-15T20:12:38.925661Z",
          "shell.execute_reply": "2023-04-15T20:12:38.951594Z"
        },
        "trusted": true,
        "id": "eGeFa_zWLQ7G"
      },
      "execution_count": 32,
      "outputs": []
    },
    {
      "cell_type": "code",
      "source": [
        "# Training the model\n",
        "history = model.fit(X_train, y_train, validation_data = (X_test, y_test), batch_size = Batch, epochs = Epochs, verbose = 1)"
      ],
      "metadata": {
        "execution": {
          "iopub.status.busy": "2023-04-15T20:12:38.954568Z",
          "iopub.execute_input": "2023-04-15T20:12:38.955882Z",
          "iopub.status.idle": "2023-04-15T21:53:11.449840Z",
          "shell.execute_reply.started": "2023-04-15T20:12:38.955828Z",
          "shell.execute_reply": "2023-04-15T21:53:11.447125Z"
        },
        "trusted": true,
        "colab": {
          "base_uri": "https://localhost:8080/"
        },
        "id": "D-2sATlALQ7G",
        "outputId": "01590c92-984c-43cc-9617-9d2f765ecd75"
      },
      "execution_count": 33,
      "outputs": [
        {
          "output_type": "stream",
          "name": "stdout",
          "text": [
            "Epoch 1/100\n",
            "3427/3427 [==============================] - 45s 9ms/step - loss: 0.6196 - accuracy: 0.8169 - val_loss: 0.3419 - val_accuracy: 0.8910\n",
            "Epoch 2/100\n",
            "3427/3427 [==============================] - 28s 8ms/step - loss: 0.3987 - accuracy: 0.8771 - val_loss: 0.2542 - val_accuracy: 0.9188\n",
            "Epoch 3/100\n",
            "3427/3427 [==============================] - 28s 8ms/step - loss: 0.3599 - accuracy: 0.8895 - val_loss: 0.2540 - val_accuracy: 0.9157\n",
            "Epoch 4/100\n",
            "3427/3427 [==============================] - 29s 8ms/step - loss: 0.3374 - accuracy: 0.8961 - val_loss: 0.2404 - val_accuracy: 0.9189\n",
            "Epoch 5/100\n",
            "3427/3427 [==============================] - 28s 8ms/step - loss: 0.3199 - accuracy: 0.9011 - val_loss: 0.2293 - val_accuracy: 0.9269\n",
            "Epoch 6/100\n",
            "3427/3427 [==============================] - 28s 8ms/step - loss: 0.3107 - accuracy: 0.9024 - val_loss: 0.2222 - val_accuracy: 0.9286\n",
            "Epoch 7/100\n",
            "3427/3427 [==============================] - 28s 8ms/step - loss: 0.3027 - accuracy: 0.9056 - val_loss: 0.2149 - val_accuracy: 0.9310\n",
            "Epoch 8/100\n",
            "3427/3427 [==============================] - 31s 9ms/step - loss: 0.2937 - accuracy: 0.9079 - val_loss: 0.2136 - val_accuracy: 0.9328\n",
            "Epoch 9/100\n",
            "3427/3427 [==============================] - 29s 8ms/step - loss: 0.2895 - accuracy: 0.9092 - val_loss: 0.2002 - val_accuracy: 0.9355\n",
            "Epoch 10/100\n",
            "3427/3427 [==============================] - 28s 8ms/step - loss: 0.2863 - accuracy: 0.9111 - val_loss: 0.2085 - val_accuracy: 0.9320\n",
            "Epoch 11/100\n",
            "3427/3427 [==============================] - 29s 8ms/step - loss: 0.2804 - accuracy: 0.9116 - val_loss: 0.2107 - val_accuracy: 0.9316\n",
            "Epoch 12/100\n",
            "3427/3427 [==============================] - 29s 8ms/step - loss: 0.2774 - accuracy: 0.9130 - val_loss: 0.1953 - val_accuracy: 0.9369\n",
            "Epoch 13/100\n",
            "3427/3427 [==============================] - 31s 9ms/step - loss: 0.2725 - accuracy: 0.9141 - val_loss: 0.1976 - val_accuracy: 0.9351\n",
            "Epoch 14/100\n",
            "3427/3427 [==============================] - 29s 8ms/step - loss: 0.2707 - accuracy: 0.9143 - val_loss: 0.1960 - val_accuracy: 0.9355\n",
            "Epoch 15/100\n",
            "3427/3427 [==============================] - 29s 8ms/step - loss: 0.2670 - accuracy: 0.9161 - val_loss: 0.1939 - val_accuracy: 0.9379\n",
            "Epoch 16/100\n",
            "3427/3427 [==============================] - 29s 8ms/step - loss: 0.2661 - accuracy: 0.9161 - val_loss: 0.2083 - val_accuracy: 0.9334\n",
            "Epoch 17/100\n",
            "3427/3427 [==============================] - 29s 8ms/step - loss: 0.2640 - accuracy: 0.9158 - val_loss: 0.1978 - val_accuracy: 0.9361\n",
            "Epoch 18/100\n",
            "3427/3427 [==============================] - 28s 8ms/step - loss: 0.2611 - accuracy: 0.9177 - val_loss: 0.1874 - val_accuracy: 0.9393\n",
            "Epoch 19/100\n",
            "3427/3427 [==============================] - 29s 8ms/step - loss: 0.2587 - accuracy: 0.9174 - val_loss: 0.1901 - val_accuracy: 0.9376\n",
            "Epoch 20/100\n",
            "3427/3427 [==============================] - 31s 9ms/step - loss: 0.2577 - accuracy: 0.9182 - val_loss: 0.1868 - val_accuracy: 0.9400\n",
            "Epoch 21/100\n",
            "3427/3427 [==============================] - 29s 8ms/step - loss: 0.2566 - accuracy: 0.9187 - val_loss: 0.1985 - val_accuracy: 0.9354\n",
            "Epoch 22/100\n",
            "3427/3427 [==============================] - 29s 8ms/step - loss: 0.2545 - accuracy: 0.9191 - val_loss: 0.1896 - val_accuracy: 0.9380\n",
            "Epoch 23/100\n",
            "3427/3427 [==============================] - 28s 8ms/step - loss: 0.2537 - accuracy: 0.9192 - val_loss: 0.1855 - val_accuracy: 0.9401\n",
            "Epoch 24/100\n",
            "3427/3427 [==============================] - 28s 8ms/step - loss: 0.2516 - accuracy: 0.9201 - val_loss: 0.1835 - val_accuracy: 0.9397\n",
            "Epoch 25/100\n",
            "3427/3427 [==============================] - 29s 8ms/step - loss: 0.2513 - accuracy: 0.9198 - val_loss: 0.1887 - val_accuracy: 0.9401\n",
            "Epoch 26/100\n",
            "3427/3427 [==============================] - 31s 9ms/step - loss: 0.2507 - accuracy: 0.9203 - val_loss: 0.1868 - val_accuracy: 0.9383\n",
            "Epoch 27/100\n",
            "3427/3427 [==============================] - 28s 8ms/step - loss: 0.2465 - accuracy: 0.9217 - val_loss: 0.1853 - val_accuracy: 0.9413\n",
            "Epoch 28/100\n",
            "3427/3427 [==============================] - 28s 8ms/step - loss: 0.2459 - accuracy: 0.9215 - val_loss: 0.1828 - val_accuracy: 0.9421\n",
            "Epoch 29/100\n",
            "3427/3427 [==============================] - 28s 8ms/step - loss: 0.2481 - accuracy: 0.9210 - val_loss: 0.1785 - val_accuracy: 0.9432\n",
            "Epoch 30/100\n",
            "3427/3427 [==============================] - 28s 8ms/step - loss: 0.2471 - accuracy: 0.9212 - val_loss: 0.1840 - val_accuracy: 0.9404\n",
            "Epoch 31/100\n",
            "3427/3427 [==============================] - 28s 8ms/step - loss: 0.2449 - accuracy: 0.9217 - val_loss: 0.1855 - val_accuracy: 0.9389\n",
            "Epoch 32/100\n",
            "3427/3427 [==============================] - 29s 8ms/step - loss: 0.2447 - accuracy: 0.9219 - val_loss: 0.1897 - val_accuracy: 0.9398\n",
            "Epoch 33/100\n",
            "3427/3427 [==============================] - 31s 9ms/step - loss: 0.2448 - accuracy: 0.9218 - val_loss: 0.1769 - val_accuracy: 0.9419\n",
            "Epoch 34/100\n",
            "3427/3427 [==============================] - 29s 8ms/step - loss: 0.2415 - accuracy: 0.9224 - val_loss: 0.1820 - val_accuracy: 0.9403\n",
            "Epoch 35/100\n",
            "3427/3427 [==============================] - 29s 8ms/step - loss: 0.2430 - accuracy: 0.9228 - val_loss: 0.1817 - val_accuracy: 0.9405\n",
            "Epoch 36/100\n",
            "3427/3427 [==============================] - 29s 9ms/step - loss: 0.2414 - accuracy: 0.9231 - val_loss: 0.1873 - val_accuracy: 0.9401\n",
            "Epoch 37/100\n",
            "3427/3427 [==============================] - 29s 8ms/step - loss: 0.2396 - accuracy: 0.9230 - val_loss: 0.1811 - val_accuracy: 0.9431\n",
            "Epoch 38/100\n",
            "3427/3427 [==============================] - 32s 9ms/step - loss: 0.2406 - accuracy: 0.9228 - val_loss: 0.1829 - val_accuracy: 0.9399\n",
            "Epoch 39/100\n",
            "3427/3427 [==============================] - 29s 8ms/step - loss: 0.2384 - accuracy: 0.9231 - val_loss: 0.1822 - val_accuracy: 0.9426\n",
            "Epoch 40/100\n",
            "3427/3427 [==============================] - 29s 8ms/step - loss: 0.2394 - accuracy: 0.9235 - val_loss: 0.1849 - val_accuracy: 0.9404\n",
            "Epoch 41/100\n",
            "3427/3427 [==============================] - 30s 9ms/step - loss: 0.2361 - accuracy: 0.9239 - val_loss: 0.1783 - val_accuracy: 0.9419\n",
            "Epoch 42/100\n",
            "3427/3427 [==============================] - 28s 8ms/step - loss: 0.2373 - accuracy: 0.9243 - val_loss: 0.1777 - val_accuracy: 0.9445\n",
            "Epoch 43/100\n",
            "3427/3427 [==============================] - 29s 8ms/step - loss: 0.2376 - accuracy: 0.9238 - val_loss: 0.1776 - val_accuracy: 0.9443\n",
            "Epoch 44/100\n",
            "3427/3427 [==============================] - 29s 8ms/step - loss: 0.2357 - accuracy: 0.9242 - val_loss: 0.1757 - val_accuracy: 0.9438\n",
            "Epoch 45/100\n",
            "3427/3427 [==============================] - 28s 8ms/step - loss: 0.2344 - accuracy: 0.9244 - val_loss: 0.1824 - val_accuracy: 0.9414\n",
            "Epoch 46/100\n",
            "3427/3427 [==============================] - 28s 8ms/step - loss: 0.2346 - accuracy: 0.9249 - val_loss: 0.1782 - val_accuracy: 0.9428\n",
            "Epoch 47/100\n",
            "3427/3427 [==============================] - 29s 8ms/step - loss: 0.2349 - accuracy: 0.9245 - val_loss: 0.1795 - val_accuracy: 0.9447\n",
            "Epoch 48/100\n",
            "3427/3427 [==============================] - 28s 8ms/step - loss: 0.2358 - accuracy: 0.9247 - val_loss: 0.1796 - val_accuracy: 0.9432\n",
            "Epoch 49/100\n",
            "3427/3427 [==============================] - 29s 8ms/step - loss: 0.2336 - accuracy: 0.9253 - val_loss: 0.1775 - val_accuracy: 0.9431\n",
            "Epoch 50/100\n",
            "3427/3427 [==============================] - 29s 8ms/step - loss: 0.2341 - accuracy: 0.9251 - val_loss: 0.1784 - val_accuracy: 0.9437\n",
            "Epoch 51/100\n",
            "3427/3427 [==============================] - 29s 8ms/step - loss: 0.2331 - accuracy: 0.9255 - val_loss: 0.1767 - val_accuracy: 0.9435\n",
            "Epoch 52/100\n",
            "3427/3427 [==============================] - 31s 9ms/step - loss: 0.2333 - accuracy: 0.9249 - val_loss: 0.1725 - val_accuracy: 0.9447\n",
            "Epoch 53/100\n",
            "3427/3427 [==============================] - 29s 8ms/step - loss: 0.2326 - accuracy: 0.9253 - val_loss: 0.1816 - val_accuracy: 0.9411\n",
            "Epoch 54/100\n",
            "3427/3427 [==============================] - 29s 8ms/step - loss: 0.2335 - accuracy: 0.9252 - val_loss: 0.1841 - val_accuracy: 0.9406\n",
            "Epoch 55/100\n",
            "3427/3427 [==============================] - 29s 8ms/step - loss: 0.2331 - accuracy: 0.9249 - val_loss: 0.1835 - val_accuracy: 0.9418\n",
            "Epoch 56/100\n",
            "3427/3427 [==============================] - 29s 8ms/step - loss: 0.2307 - accuracy: 0.9258 - val_loss: 0.1781 - val_accuracy: 0.9438\n",
            "Epoch 57/100\n",
            "3427/3427 [==============================] - 31s 9ms/step - loss: 0.2318 - accuracy: 0.9259 - val_loss: 0.1717 - val_accuracy: 0.9430\n",
            "Epoch 58/100\n",
            "3427/3427 [==============================] - 28s 8ms/step - loss: 0.2313 - accuracy: 0.9253 - val_loss: 0.1806 - val_accuracy: 0.9432\n",
            "Epoch 59/100\n",
            "3427/3427 [==============================] - 28s 8ms/step - loss: 0.2309 - accuracy: 0.9253 - val_loss: 0.1800 - val_accuracy: 0.9447\n",
            "Epoch 60/100\n",
            "3427/3427 [==============================] - 28s 8ms/step - loss: 0.2310 - accuracy: 0.9261 - val_loss: 0.1833 - val_accuracy: 0.9410\n",
            "Epoch 61/100\n",
            "3427/3427 [==============================] - 28s 8ms/step - loss: 0.2298 - accuracy: 0.9262 - val_loss: 0.1745 - val_accuracy: 0.9440\n",
            "Epoch 62/100\n",
            "3427/3427 [==============================] - 29s 8ms/step - loss: 0.2286 - accuracy: 0.9259 - val_loss: 0.1756 - val_accuracy: 0.9445\n",
            "Epoch 63/100\n",
            "3427/3427 [==============================] - 28s 8ms/step - loss: 0.2315 - accuracy: 0.9260 - val_loss: 0.1717 - val_accuracy: 0.9455\n",
            "Epoch 64/100\n",
            "3427/3427 [==============================] - 28s 8ms/step - loss: 0.2287 - accuracy: 0.9257 - val_loss: 0.1859 - val_accuracy: 0.9411\n",
            "Epoch 65/100\n",
            "3427/3427 [==============================] - 31s 9ms/step - loss: 0.2333 - accuracy: 0.9250 - val_loss: 0.1934 - val_accuracy: 0.9384\n",
            "Epoch 66/100\n",
            "3427/3427 [==============================] - 28s 8ms/step - loss: 0.2290 - accuracy: 0.9263 - val_loss: 0.1775 - val_accuracy: 0.9428\n",
            "Epoch 67/100\n",
            "3427/3427 [==============================] - 28s 8ms/step - loss: 0.2288 - accuracy: 0.9266 - val_loss: 0.1815 - val_accuracy: 0.9424\n",
            "Epoch 68/100\n",
            "3427/3427 [==============================] - 28s 8ms/step - loss: 0.2285 - accuracy: 0.9270 - val_loss: 0.1835 - val_accuracy: 0.9431\n",
            "Epoch 69/100\n",
            "3427/3427 [==============================] - 28s 8ms/step - loss: 0.2289 - accuracy: 0.9268 - val_loss: 0.1748 - val_accuracy: 0.9430\n",
            "Epoch 70/100\n",
            "3427/3427 [==============================] - 28s 8ms/step - loss: 0.2314 - accuracy: 0.9260 - val_loss: 0.1698 - val_accuracy: 0.9450\n",
            "Epoch 71/100\n",
            "3427/3427 [==============================] - 28s 8ms/step - loss: 0.2301 - accuracy: 0.9266 - val_loss: 0.1748 - val_accuracy: 0.9450\n",
            "Epoch 72/100\n",
            "3427/3427 [==============================] - 28s 8ms/step - loss: 0.2304 - accuracy: 0.9262 - val_loss: 0.1754 - val_accuracy: 0.9443\n",
            "Epoch 73/100\n",
            "3427/3427 [==============================] - 31s 9ms/step - loss: 0.2290 - accuracy: 0.9265 - val_loss: 0.1759 - val_accuracy: 0.9457\n",
            "Epoch 74/100\n",
            "3427/3427 [==============================] - 28s 8ms/step - loss: 0.2277 - accuracy: 0.9268 - val_loss: 0.1818 - val_accuracy: 0.9408\n",
            "Epoch 75/100\n",
            "3427/3427 [==============================] - 28s 8ms/step - loss: 0.2286 - accuracy: 0.9264 - val_loss: 0.1731 - val_accuracy: 0.9438\n",
            "Epoch 76/100\n",
            "3427/3427 [==============================] - 28s 8ms/step - loss: 0.2279 - accuracy: 0.9269 - val_loss: 0.1777 - val_accuracy: 0.9435\n",
            "Epoch 77/100\n",
            "3427/3427 [==============================] - 28s 8ms/step - loss: 0.2267 - accuracy: 0.9268 - val_loss: 0.1742 - val_accuracy: 0.9456\n",
            "Epoch 78/100\n",
            "3427/3427 [==============================] - 28s 8ms/step - loss: 0.2277 - accuracy: 0.9270 - val_loss: 0.1694 - val_accuracy: 0.9459\n",
            "Epoch 79/100\n",
            "3427/3427 [==============================] - 28s 8ms/step - loss: 0.2263 - accuracy: 0.9270 - val_loss: 0.1724 - val_accuracy: 0.9452\n",
            "Epoch 80/100\n",
            "3427/3427 [==============================] - 28s 8ms/step - loss: 0.2255 - accuracy: 0.9268 - val_loss: 0.1712 - val_accuracy: 0.9452\n",
            "Epoch 81/100\n",
            "3427/3427 [==============================] - 31s 9ms/step - loss: 0.2261 - accuracy: 0.9265 - val_loss: 0.1812 - val_accuracy: 0.9425\n",
            "Epoch 82/100\n",
            "3427/3427 [==============================] - 29s 8ms/step - loss: 0.2277 - accuracy: 0.9270 - val_loss: 0.1735 - val_accuracy: 0.9450\n",
            "Epoch 83/100\n",
            "3427/3427 [==============================] - 29s 8ms/step - loss: 0.2246 - accuracy: 0.9274 - val_loss: 0.1735 - val_accuracy: 0.9443\n",
            "Epoch 84/100\n",
            "3427/3427 [==============================] - 28s 8ms/step - loss: 0.2244 - accuracy: 0.9278 - val_loss: 0.1760 - val_accuracy: 0.9447\n",
            "Epoch 85/100\n",
            "3427/3427 [==============================] - 28s 8ms/step - loss: 0.2241 - accuracy: 0.9281 - val_loss: 0.1763 - val_accuracy: 0.9439\n",
            "Epoch 86/100\n",
            "3427/3427 [==============================] - 28s 8ms/step - loss: 0.2244 - accuracy: 0.9280 - val_loss: 0.1720 - val_accuracy: 0.9461\n",
            "Epoch 87/100\n",
            "3427/3427 [==============================] - 28s 8ms/step - loss: 0.2250 - accuracy: 0.9275 - val_loss: 0.1737 - val_accuracy: 0.9452\n",
            "Epoch 88/100\n",
            "3427/3427 [==============================] - 28s 8ms/step - loss: 0.2256 - accuracy: 0.9273 - val_loss: 0.1746 - val_accuracy: 0.9447\n",
            "Epoch 89/100\n",
            "3427/3427 [==============================] - 29s 8ms/step - loss: 0.2211 - accuracy: 0.9283 - val_loss: 0.1732 - val_accuracy: 0.9447\n",
            "Epoch 90/100\n",
            "3427/3427 [==============================] - 31s 9ms/step - loss: 0.2243 - accuracy: 0.9279 - val_loss: 0.1733 - val_accuracy: 0.9432\n",
            "Epoch 91/100\n",
            "3427/3427 [==============================] - 28s 8ms/step - loss: 0.2243 - accuracy: 0.9275 - val_loss: 0.1718 - val_accuracy: 0.9459\n",
            "Epoch 92/100\n",
            "3427/3427 [==============================] - 28s 8ms/step - loss: 0.2219 - accuracy: 0.9285 - val_loss: 0.1772 - val_accuracy: 0.9420\n",
            "Epoch 93/100\n",
            "3427/3427 [==============================] - 28s 8ms/step - loss: 0.2234 - accuracy: 0.9280 - val_loss: 0.1746 - val_accuracy: 0.9453\n",
            "Epoch 94/100\n",
            "3427/3427 [==============================] - 28s 8ms/step - loss: 0.2231 - accuracy: 0.9284 - val_loss: 0.1774 - val_accuracy: 0.9444\n",
            "Epoch 95/100\n",
            "3427/3427 [==============================] - 29s 8ms/step - loss: 0.2258 - accuracy: 0.9270 - val_loss: 0.1704 - val_accuracy: 0.9468\n",
            "Epoch 96/100\n",
            "3427/3427 [==============================] - 29s 8ms/step - loss: 0.2258 - accuracy: 0.9272 - val_loss: 0.1708 - val_accuracy: 0.9461\n",
            "Epoch 97/100\n",
            "3427/3427 [==============================] - 31s 9ms/step - loss: 0.2264 - accuracy: 0.9272 - val_loss: 0.1704 - val_accuracy: 0.9441\n",
            "Epoch 98/100\n",
            "3427/3427 [==============================] - 29s 8ms/step - loss: 0.2263 - accuracy: 0.9272 - val_loss: 0.1771 - val_accuracy: 0.9431\n",
            "Epoch 99/100\n",
            "3427/3427 [==============================] - 28s 8ms/step - loss: 0.2257 - accuracy: 0.9270 - val_loss: 0.1712 - val_accuracy: 0.9465\n",
            "Epoch 100/100\n",
            "3427/3427 [==============================] - 29s 8ms/step - loss: 0.2250 - accuracy: 0.9276 - val_loss: 0.1679 - val_accuracy: 0.9450\n"
          ]
        }
      ]
    },
    {
      "cell_type": "code",
      "source": [
        "# Evaluating model accuracy on test data\n",
        "score = model.evaluate(X_test, y_test, batch_size = Batch, verbose = 0)\n",
        "print(f\"Test Accuracy:{round(score[1],4)*100}%\")"
      ],
      "metadata": {
        "execution": {
          "iopub.status.busy": "2023-04-15T21:57:10.398799Z",
          "iopub.execute_input": "2023-04-15T21:57:10.399841Z",
          "iopub.status.idle": "2023-04-15T21:57:30.459467Z",
          "shell.execute_reply.started": "2023-04-15T21:57:10.399760Z",
          "shell.execute_reply": "2023-04-15T21:57:30.458340Z"
        },
        "trusted": true,
        "id": "eMexHP9tLQ7G",
        "colab": {
          "base_uri": "https://localhost:8080/"
        },
        "outputId": "489cf696-fa1b-4fb2-d270-d9117044ef38"
      },
      "execution_count": 34,
      "outputs": [
        {
          "output_type": "stream",
          "name": "stdout",
          "text": [
            "Test Accuracy:94.5%\n"
          ]
        }
      ]
    },
    {
      "cell_type": "code",
      "source": [
        "# Defining a function to plot the accuracy and loss curves during training\n",
        "def accuracy_plot (data):\n",
        "    fig, ax = plt.subplots(1,2 , figsize = (20,7))\n",
        "    # Summarizing history for accuracy\n",
        "    ax[0].plot(data.history['accuracy'])\n",
        "    ax[0].plot(data.history['val_accuracy'])\n",
        "    ax[0].set_title('CNN Model Accuracy')\n",
        "    ax[0].legend(['train', 'test'], loc='upper left')\n",
        "\n",
        "    # Summarizing history for loss\n",
        "    ax[1].plot(data.history['loss'], label =['loss'])\n",
        "    ax[1].plot(data.history['val_loss'] ,label =['val_loss'])\n",
        "    ax[1].set_title('CNN Model Loss')\n",
        "    ax[1].legend(['train', 'test'], loc='upper left')\n",
        "    plt.show()"
      ],
      "metadata": {
        "execution": {
          "iopub.status.busy": "2023-04-15T21:59:44.663805Z",
          "iopub.execute_input": "2023-04-15T21:59:44.664550Z",
          "iopub.status.idle": "2023-04-15T21:59:44.679391Z",
          "shell.execute_reply.started": "2023-04-15T21:59:44.664492Z",
          "shell.execute_reply": "2023-04-15T21:59:44.676754Z"
        },
        "trusted": true,
        "id": "zAnRCp95LQ7G"
      },
      "execution_count": 35,
      "outputs": []
    },
    {
      "cell_type": "code",
      "source": [
        "# Plotting the accuracy and loss curves during training\n",
        "accuracy_plot(history)"
      ],
      "metadata": {
        "execution": {
          "iopub.status.busy": "2023-04-15T22:00:32.698304Z",
          "iopub.execute_input": "2023-04-15T22:00:32.698837Z",
          "iopub.status.idle": "2023-04-15T22:00:33.253117Z",
          "shell.execute_reply.started": "2023-04-15T22:00:32.698793Z",
          "shell.execute_reply": "2023-04-15T22:00:33.252216Z"
        },
        "trusted": true,
        "id": "i155JPj3LQ7H",
        "colab": {
          "base_uri": "https://localhost:8080/",
          "height": 484
        },
        "outputId": "02ae5b9f-2ee2-461b-accd-81ed3c94af6a"
      },
      "execution_count": 36,
      "outputs": [
        {
          "output_type": "display_data",
          "data": {
            "text/plain": [
              "<Figure size 2000x700 with 2 Axes>"
            ],
            "image/png": "[encoded data removed]"
          },
          "metadata": {}
        }
      ]
    },
    {
      "cell_type": "code",
      "source": [
        "# Predicting the characters using the trained model\n",
        "fig, axes = plt.subplots(3,3, figsize=(8,9))\n",
        "axes = axes.flatten()\n",
        "\n",
        "for i,ax in enumerate(axes):\n",
        "    # Reshaping the characters for display\n",
        "    img = np.reshape(X_test[i], (28,28))\n",
        "    ax.imshow(img)\n",
        "    # Reshaping the characters to pass into the model for prediction\n",
        "    test_image = np.reshape(img, (1,28,28,1))\n",
        "    y_pred = data_dict[np.argmax(model.predict(test_image))]\n",
        "    ax.set_title(\"Prediction: \" + y_pred)\n",
        "    ax.grid()"
      ],
      "metadata": {
        "execution": {
          "iopub.status.busy": "2023-04-15T22:02:58.301410Z",
          "iopub.execute_input": "2023-04-15T22:02:58.302242Z",
          "iopub.status.idle": "2023-04-15T22:03:01.668222Z",
          "shell.execute_reply.started": "2023-04-15T22:02:58.302192Z",
          "shell.execute_reply": "2023-04-15T22:03:01.666814Z"
        },
        "trusted": true,
        "id": "BMnnI2AwLQ7H",
        "colab": {
          "base_uri": "https://localhost:8080/",
          "height": 910
        },
        "outputId": "20d6c201-eafc-4853-c353-9ce7d289de68"
      },
      "execution_count": 37,
      "outputs": [
        {
          "output_type": "stream",
          "name": "stdout",
          "text": [
            "1/1 [==============================] - 0s 385ms/step\n",
            "1/1 [==============================] - 0s 26ms/step\n",
            "1/1 [==============================] - 0s 25ms/step\n",
            "1/1 [==============================] - 0s 26ms/step\n",
            "1/1 [==============================] - 0s 29ms/step\n",
            "1/1 [==============================] - 0s 27ms/step\n",
            "1/1 [==============================] - 0s 25ms/step\n",
            "1/1 [==============================] - 0s 28ms/step\n",
            "1/1 [==============================] - 0s 26ms/step\n"
          ]
        },
        {
          "output_type": "display_data",
          "data": {
            "text/plain": [
              "<Figure size 800x900 with 9 Axes>"
            ],
            "image/png": "[encoded data removed]"
          },
          "metadata": {}
        }
      ]
    },
    {
      "cell_type": "markdown",
      "source": [
        "## Conclusion\n",
        "In conclusion, this study showcases the potential of Convolutional Neural Network (CNN) based approaches for automated character recognition systems, particularly for typography classification on the challenging MNIST dataset consisting of 94 alphabets. The proposed model utilizes a deep CNN architecture with multiple convolutional and pooling layers, along with data augmentation techniques, to handle the variability in the dataset. With an impressive accuracy of around 94% on the test set, this study provides a significant advancement in the field by surpassing previous state-of-the-art methods. The results demonstrate the effectiveness of CNNs in real-world applications and inspire future research to develop more effective machine learning models for complex data analysis."
      ],
      "metadata": {
        "id": "h-i40Lt5WZXK"
      }
    },
    {
      "cell_type": "markdown",
      "source": [
        "## References\n",
        "We have referred the following links and websites to understand the machine learning concepts:\n",
        "\n",
        "1. GeeksforGeeks\n",
        "2. towardsdatascience\n",
        "3. scikitlearn documentation\n",
        "4. StatQuest with Josh Starmer\n",
        "5. analyticsvidhya\n",
        "6. TensorFlow documentation\n",
        "\n",
        "Specific links have been provided within the notebook for detailed reference. We referred matplotlib documentation for preparing data visualizations. Rest of the code is written individually with reference to the previous assignments."
      ],
      "metadata": {
        "id": "aH9AcBN6Smom"
      }
    },
    {
      "cell_type": "markdown",
      "source": [
        "MIT License\n",
        "\n",
        "Copyright (c) 2022 Draconian10\n",
        "\n",
        "Permission is hereby granted, free of charge, to any person obtaining a copy\n",
        "of this software and associated documentation files (the \"Software\"), to deal\n",
        "in the Software without restriction, including without limitation the rights\n",
        "to use, copy, modify, merge, publish, distribute, sublicense, and/or sell\n",
        "copies of the Software, and to permit persons to whom the Software is\n",
        "furnished to do so, subject to the following conditions:\n",
        "\n",
        "The above copyright notice and this permission notice shall be included in all\n",
        "copies or substantial portions of the Software.\n",
        "\n",
        "THE SOFTWARE IS PROVIDED \"AS IS\", WITHOUT WARRANTY OF ANY KIND, EXPRESS OR\n",
        "IMPLIED, INCLUDING BUT NOT LIMITED TO THE WARRANTIES OF MERCHANTABILITY,\n",
        "FITNESS FOR A PARTICULAR PURPOSE AND NONINFRINGEMENT. IN NO EVENT SHALL THE\n",
        "AUTHORS OR COPYRIGHT HOLDERS BE LIABLE FOR ANY CLAIM, DAMAGES OR OTHER\n",
        "LIABILITY, WHETHER IN AN ACTION OF CONTRACT, TORT OR OTHERWISE, ARISING FROM,\n",
        "OUT OF OR IN CONNECTION WITH THE SOFTWARE OR THE USE OR OTHER DEALINGS IN THE\n",
        "SOFTWARE."
      ],
      "metadata": {
        "id": "bpsNXl28Sghv"
      }
    }
  ]
}